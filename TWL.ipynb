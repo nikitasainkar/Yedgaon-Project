{
 "cells": [
  {
   "cell_type": "markdown",
   "id": "0f962b65",
   "metadata": {},
   "source": [
    "# Yedgaon Total Water Level Prediction"
   ]
  },
  {
   "cell_type": "markdown",
   "id": "5fef3b35",
   "metadata": {},
   "source": [
    "#### Brief: \n",
    "The present work aims at developing a model for reservoir operation using Machine Learning tools in the Kukadi project of Maharashtra State, India. In this study, the data sets at five different stations located in Kukadi Project are used. Kukadi Irrigation Project envisages cluster of 5 major dams (named Dimbhe, Manikdoh, Wadaj, Pimplgaojoge and Yedgaon) having irrigation potential of 155056 Ha with annual 943.98 Mm3 (33.33 TMC) water utilization. The Yedgaon dam is like pick up weir having its own yield and storage. It receives water from Dimbhe (though DLBC), Wadaj (through MLBC), Manikdoh (through river) and through Pimpalgaojoge (through river).\n",
    "\n",
    "#### Problem Statement: \n",
    "The aim of the present work is develop a model to estimate the total water level at Manikdoh, Wadaj, Dimbhe and Pimpalgaojoge dams to estimate the same at Yedgaon and analyze the results.\n",
    "\n",
    "#### Objective: \n",
    "Development of model using the TWL values at upstream (Manikdoh, Wadaj, Dimbhe, Pimpalgaojoge) stations and downstream (Yedgaon) station.\n",
    "Comparison of the results using various soft computing tools i.e. actual values and predicted values at Yedgaon dam.\n",
    "\n",
    "\n",
    "#### Dataset: \n",
    "TWL Data values was obtained from the Irrigation Department, Narayangaon from 1st June 2015 to 31st August 2019 each for Manikdoh, Dimbhe, Wadaj, Pimplgaojoge and Yedgaon for Kukadi Irrigation Project. \n",
    "The total no. of observations for daily discharge data available for each station is 1548.\n",
    "\n",
    "#### Methodology:\n",
    "The project follows the process: Data Gathering, Exploratory Data Analysis, Feature Engineering and finally Machine Learning. The model is developed using Linear Regression, Decision Tree Regressor, KNN Regression, Support Vector Machine and Random Forest. Further, Concluding by the results in terms of R2."
   ]
  },
  {
   "cell_type": "markdown",
   "id": "8fab8972",
   "metadata": {},
   "source": [
    "# Importing the Libraries"
   ]
  },
  {
   "cell_type": "code",
   "execution_count": 77,
   "id": "ee4679ea",
   "metadata": {},
   "outputs": [],
   "source": [
    "import pandas as pd \n",
    "import seaborn as sns \n",
    "import numpy as np \n",
    "import matplotlib.pyplot as plt \n",
    "import sklearn\n",
    "import warnings \n",
    "warnings.filterwarnings('ignore')\n",
    "\n",
    "from sklearn.model_selection import train_test_split\n",
    "from sklearn.preprocessing import StandardScaler\n",
    "from sklearn.model_selection import cross_validate\n",
    "\n",
    "from sklearn.linear_model import LinearRegression\n",
    "from sklearn.neighbors import KNeighborsRegressor\n",
    "from sklearn.tree import DecisionTreeRegressor\n",
    "from sklearn.ensemble import RandomForestRegressor\n",
    "from sklearn.svm import SVR"
   ]
  },
  {
   "cell_type": "markdown",
   "id": "61873355",
   "metadata": {},
   "source": [
    "# Reading the Data"
   ]
  },
  {
   "cell_type": "code",
   "execution_count": 78,
   "id": "6f0132cf",
   "metadata": {},
   "outputs": [],
   "source": [
    "import pandas as pd\n",
    "data = pd.read_csv('TWL Data.csv')"
   ]
  },
  {
   "cell_type": "code",
   "execution_count": 79,
   "id": "8a27b281",
   "metadata": {
    "scrolled": false
   },
   "outputs": [
    {
     "data": {
      "text/html": [
       "<div>\n",
       "<style scoped>\n",
       "    .dataframe tbody tr th:only-of-type {\n",
       "        vertical-align: middle;\n",
       "    }\n",
       "\n",
       "    .dataframe tbody tr th {\n",
       "        vertical-align: top;\n",
       "    }\n",
       "\n",
       "    .dataframe thead th {\n",
       "        text-align: right;\n",
       "    }\n",
       "</style>\n",
       "<table border=\"1\" class=\"dataframe\">\n",
       "  <thead>\n",
       "    <tr style=\"text-align: right;\">\n",
       "      <th></th>\n",
       "      <th>Manikdoh</th>\n",
       "      <th>Wadaj</th>\n",
       "      <th>Dimbhe</th>\n",
       "      <th>Pjoge</th>\n",
       "      <th>Yedgaon</th>\n",
       "    </tr>\n",
       "  </thead>\n",
       "  <tbody>\n",
       "    <tr>\n",
       "      <th>0</th>\n",
       "      <td>686.54</td>\n",
       "      <td>707.55</td>\n",
       "      <td>691.45</td>\n",
       "      <td>681.50</td>\n",
       "      <td>636.16</td>\n",
       "    </tr>\n",
       "    <tr>\n",
       "      <th>1</th>\n",
       "      <td>686.53</td>\n",
       "      <td>707.53</td>\n",
       "      <td>691.45</td>\n",
       "      <td>681.47</td>\n",
       "      <td>636.14</td>\n",
       "    </tr>\n",
       "    <tr>\n",
       "      <th>2</th>\n",
       "      <td>686.52</td>\n",
       "      <td>707.52</td>\n",
       "      <td>691.45</td>\n",
       "      <td>681.44</td>\n",
       "      <td>636.12</td>\n",
       "    </tr>\n",
       "    <tr>\n",
       "      <th>3</th>\n",
       "      <td>686.51</td>\n",
       "      <td>707.50</td>\n",
       "      <td>691.45</td>\n",
       "      <td>681.41</td>\n",
       "      <td>636.10</td>\n",
       "    </tr>\n",
       "    <tr>\n",
       "      <th>4</th>\n",
       "      <td>686.50</td>\n",
       "      <td>707.49</td>\n",
       "      <td>691.35</td>\n",
       "      <td>681.38</td>\n",
       "      <td>636.08</td>\n",
       "    </tr>\n",
       "  </tbody>\n",
       "</table>\n",
       "</div>"
      ],
      "text/plain": [
       "   Manikdoh   Wadaj  Dimbhe   Pjoge  Yedgaon\n",
       "0    686.54  707.55  691.45  681.50   636.16\n",
       "1    686.53  707.53  691.45  681.47   636.14\n",
       "2    686.52  707.52  691.45  681.44   636.12\n",
       "3    686.51  707.50  691.45  681.41   636.10\n",
       "4    686.50  707.49  691.35  681.38   636.08"
      ]
     },
     "execution_count": 79,
     "metadata": {},
     "output_type": "execute_result"
    }
   ],
   "source": [
    "data.head()"
   ]
  },
  {
   "cell_type": "markdown",
   "id": "4b0956c7",
   "metadata": {},
   "source": [
    "# Preliminary Investigation"
   ]
  },
  {
   "cell_type": "code",
   "execution_count": 80,
   "id": "70fff015",
   "metadata": {},
   "outputs": [
    {
     "data": {
      "text/plain": [
       "<bound method DataFrame.info of       Manikdoh   Wadaj  Dimbhe   Pjoge  Yedgaon\n",
       "0       686.54  707.55  691.45  681.50   636.16\n",
       "1       686.53  707.53  691.45  681.47   636.14\n",
       "2       686.52  707.52  691.45  681.44   636.12\n",
       "3       686.51  707.50  691.45  681.41   636.10\n",
       "4       686.50  707.49  691.35  681.38   636.08\n",
       "...        ...     ...     ...     ...      ...\n",
       "1543    708.45  717.53  719.14  686.25   639.50\n",
       "1544    708.37  717.53  719.14  686.25   639.41\n",
       "1545    708.30  717.53  719.06  686.23   639.39\n",
       "1546    708.17  717.53  719.00  686.22   639.37\n",
       "1547    708.00  717.48  718.95  686.22   639.44\n",
       "\n",
       "[1548 rows x 5 columns]>"
      ]
     },
     "execution_count": 80,
     "metadata": {},
     "output_type": "execute_result"
    }
   ],
   "source": [
    "data.info"
   ]
  },
  {
   "cell_type": "code",
   "execution_count": 81,
   "id": "9002d24f",
   "metadata": {},
   "outputs": [
    {
     "data": {
      "text/html": [
       "<div>\n",
       "<style scoped>\n",
       "    .dataframe tbody tr th:only-of-type {\n",
       "        vertical-align: middle;\n",
       "    }\n",
       "\n",
       "    .dataframe tbody tr th {\n",
       "        vertical-align: top;\n",
       "    }\n",
       "\n",
       "    .dataframe thead th {\n",
       "        text-align: right;\n",
       "    }\n",
       "</style>\n",
       "<table border=\"1\" class=\"dataframe\">\n",
       "  <thead>\n",
       "    <tr style=\"text-align: right;\">\n",
       "      <th></th>\n",
       "      <th>Manikdoh</th>\n",
       "      <th>Wadaj</th>\n",
       "      <th>Dimbhe</th>\n",
       "      <th>Pjoge</th>\n",
       "      <th>Yedgaon</th>\n",
       "    </tr>\n",
       "  </thead>\n",
       "  <tbody>\n",
       "    <tr>\n",
       "      <th>count</th>\n",
       "      <td>1548.000000</td>\n",
       "      <td>1548.000000</td>\n",
       "      <td>1548.000000</td>\n",
       "      <td>1548.000000</td>\n",
       "      <td>1548.000000</td>\n",
       "    </tr>\n",
       "    <tr>\n",
       "      <th>mean</th>\n",
       "      <td>694.953721</td>\n",
       "      <td>712.572351</td>\n",
       "      <td>705.306539</td>\n",
       "      <td>682.564561</td>\n",
       "      <td>638.184813</td>\n",
       "    </tr>\n",
       "    <tr>\n",
       "      <th>std</th>\n",
       "      <td>8.728239</td>\n",
       "      <td>4.437512</td>\n",
       "      <td>11.838471</td>\n",
       "      <td>3.316840</td>\n",
       "      <td>1.883337</td>\n",
       "    </tr>\n",
       "    <tr>\n",
       "      <th>min</th>\n",
       "      <td>681.750000</td>\n",
       "      <td>699.690000</td>\n",
       "      <td>682.550000</td>\n",
       "      <td>673.010000</td>\n",
       "      <td>634.220000</td>\n",
       "    </tr>\n",
       "    <tr>\n",
       "      <th>25%</th>\n",
       "      <td>686.850000</td>\n",
       "      <td>709.222500</td>\n",
       "      <td>696.680000</td>\n",
       "      <td>681.377500</td>\n",
       "      <td>636.540000</td>\n",
       "    </tr>\n",
       "    <tr>\n",
       "      <th>50%</th>\n",
       "      <td>693.165000</td>\n",
       "      <td>713.375000</td>\n",
       "      <td>707.620000</td>\n",
       "      <td>683.345000</td>\n",
       "      <td>638.160000</td>\n",
       "    </tr>\n",
       "    <tr>\n",
       "      <th>75%</th>\n",
       "      <td>704.180000</td>\n",
       "      <td>716.820000</td>\n",
       "      <td>716.975000</td>\n",
       "      <td>685.230000</td>\n",
       "      <td>639.940000</td>\n",
       "    </tr>\n",
       "    <tr>\n",
       "      <th>max</th>\n",
       "      <td>709.990000</td>\n",
       "      <td>717.530000</td>\n",
       "      <td>719.150000</td>\n",
       "      <td>686.620000</td>\n",
       "      <td>641.000000</td>\n",
       "    </tr>\n",
       "  </tbody>\n",
       "</table>\n",
       "</div>"
      ],
      "text/plain": [
       "          Manikdoh        Wadaj       Dimbhe        Pjoge      Yedgaon\n",
       "count  1548.000000  1548.000000  1548.000000  1548.000000  1548.000000\n",
       "mean    694.953721   712.572351   705.306539   682.564561   638.184813\n",
       "std       8.728239     4.437512    11.838471     3.316840     1.883337\n",
       "min     681.750000   699.690000   682.550000   673.010000   634.220000\n",
       "25%     686.850000   709.222500   696.680000   681.377500   636.540000\n",
       "50%     693.165000   713.375000   707.620000   683.345000   638.160000\n",
       "75%     704.180000   716.820000   716.975000   685.230000   639.940000\n",
       "max     709.990000   717.530000   719.150000   686.620000   641.000000"
      ]
     },
     "execution_count": 81,
     "metadata": {},
     "output_type": "execute_result"
    }
   ],
   "source": [
    "data.describe()"
   ]
  },
  {
   "cell_type": "code",
   "execution_count": 82,
   "id": "73964c07",
   "metadata": {},
   "outputs": [
    {
     "data": {
      "text/plain": [
       "Manikdoh    0\n",
       "Wadaj       0\n",
       "Dimbhe      0\n",
       "Pjoge       0\n",
       "Yedgaon     0\n",
       "dtype: int64"
      ]
     },
     "execution_count": 82,
     "metadata": {},
     "output_type": "execute_result"
    }
   ],
   "source": [
    "data.isnull().sum()"
   ]
  },
  {
   "cell_type": "code",
   "execution_count": 83,
   "id": "b373ab82",
   "metadata": {},
   "outputs": [],
   "source": [
    "data = data.drop_duplicates()"
   ]
  },
  {
   "cell_type": "code",
   "execution_count": 84,
   "id": "a35e1a2b",
   "metadata": {},
   "outputs": [
    {
     "data": {
      "text/plain": [
       "Manikdoh    float64\n",
       "Wadaj       float64\n",
       "Dimbhe      float64\n",
       "Pjoge       float64\n",
       "Yedgaon     float64\n",
       "dtype: object"
      ]
     },
     "execution_count": 84,
     "metadata": {},
     "output_type": "execute_result"
    }
   ],
   "source": [
    "data.dtypes"
   ]
  },
  {
   "cell_type": "code",
   "execution_count": 85,
   "id": "76b809a0",
   "metadata": {},
   "outputs": [
    {
     "data": {
      "text/plain": [
       "(1543, 5)"
      ]
     },
     "execution_count": 85,
     "metadata": {},
     "output_type": "execute_result"
    }
   ],
   "source": [
    "data.shape"
   ]
  },
  {
   "cell_type": "markdown",
   "id": "5345467e",
   "metadata": {},
   "source": [
    "# Exploratory Data Analysis"
   ]
  },
  {
   "cell_type": "code",
   "execution_count": 86,
   "id": "94aadc86",
   "metadata": {},
   "outputs": [],
   "source": [
    "import matplotlib.pyplot as plt"
   ]
  },
  {
   "cell_type": "code",
   "execution_count": 87,
   "id": "aea5c4de",
   "metadata": {},
   "outputs": [
    {
     "data": {
      "image/png": "[encoded data removed]",
      "text/plain": [
       "<Figure size 432x288 with 1 Axes>"
      ]
     },
     "metadata": {
      "needs_background": "light"
     },
     "output_type": "display_data"
    }
   ],
   "source": [
    "data.plot(x='Manikdoh', y='Yedgaon', style='o')\n",
    "plt.title('Manikdoh vs Yedgaon Plot')\n",
    "plt.xlabel('Manikdoh')\n",
    "plt.ylabel('Yedgaon')\n",
    "plt.show()"
   ]
  },
  {
   "cell_type": "code",
   "execution_count": 88,
   "id": "b1206a2b",
   "metadata": {},
   "outputs": [
    {
     "data": {
      "image/png": "[encoded data removed]",
      "text/plain": [
       "<Figure size 432x288 with 1 Axes>"
      ]
     },
     "metadata": {
      "needs_background": "light"
     },
     "output_type": "display_data"
    }
   ],
   "source": [
    "data.plot(x='Wadaj', y='Yedgaon', style='o')\n",
    "plt.title('Wadaj vs Yedgaon Plot')\n",
    "plt.xlabel('Wadaj')\n",
    "plt.ylabel('Yedgaon')\n",
    "plt.show()"
   ]
  },
  {
   "cell_type": "code",
   "execution_count": 89,
   "id": "e4155148",
   "metadata": {},
   "outputs": [
    {
     "data": {
      "image/png": "[encoded data removed]",
      "text/plain": [
       "<Figure size 432x288 with 1 Axes>"
      ]
     },
     "metadata": {
      "needs_background": "light"
     },
     "output_type": "display_data"
    }
   ],
   "source": [
    "data.plot(x='Dimbhe', y='Yedgaon', style='o')\n",
    "plt.title('Dimbhe vs Yedgaon Plot')\n",
    "plt.xlabel('Dimbhe')\n",
    "plt.ylabel('Yedgaon')\n",
    "plt.show()"
   ]
  },
  {
   "cell_type": "code",
   "execution_count": 90,
   "id": "97078fd3",
   "metadata": {},
   "outputs": [
    {
     "data": {
      "image/png": "[encoded data removed]",
      "text/plain": [
       "<Figure size 432x288 with 1 Axes>"
      ]
     },
     "metadata": {
      "needs_background": "light"
     },
     "output_type": "display_data"
    }
   ],
   "source": [
    "data.plot(x='Pjoge', y='Yedgaon', style='o')\n",
    "plt.title('Pjoge vs Yedgaon Plot')\n",
    "plt.xlabel('Pjoge')\n",
    "plt.ylabel('Yedgaon')\n",
    "plt.show()"
   ]
  },
  {
   "cell_type": "code",
   "execution_count": 91,
   "id": "d9cc0aef",
   "metadata": {},
   "outputs": [
    {
     "data": {
      "text/html": [
       "<div>\n",
       "<style scoped>\n",
       "    .dataframe tbody tr th:only-of-type {\n",
       "        vertical-align: middle;\n",
       "    }\n",
       "\n",
       "    .dataframe tbody tr th {\n",
       "        vertical-align: top;\n",
       "    }\n",
       "\n",
       "    .dataframe thead th {\n",
       "        text-align: right;\n",
       "    }\n",
       "</style>\n",
       "<table border=\"1\" class=\"dataframe\">\n",
       "  <thead>\n",
       "    <tr style=\"text-align: right;\">\n",
       "      <th></th>\n",
       "      <th>Manikdoh</th>\n",
       "      <th>Wadaj</th>\n",
       "      <th>Dimbhe</th>\n",
       "      <th>Pjoge</th>\n",
       "      <th>Yedgaon</th>\n",
       "    </tr>\n",
       "  </thead>\n",
       "  <tbody>\n",
       "    <tr>\n",
       "      <th>Manikdoh</th>\n",
       "      <td>1.000000</td>\n",
       "      <td>0.811601</td>\n",
       "      <td>0.908733</td>\n",
       "      <td>0.787526</td>\n",
       "      <td>0.702082</td>\n",
       "    </tr>\n",
       "    <tr>\n",
       "      <th>Wadaj</th>\n",
       "      <td>0.811601</td>\n",
       "      <td>1.000000</td>\n",
       "      <td>0.939233</td>\n",
       "      <td>0.885911</td>\n",
       "      <td>0.738039</td>\n",
       "    </tr>\n",
       "    <tr>\n",
       "      <th>Dimbhe</th>\n",
       "      <td>0.908733</td>\n",
       "      <td>0.939233</td>\n",
       "      <td>1.000000</td>\n",
       "      <td>0.905392</td>\n",
       "      <td>0.720240</td>\n",
       "    </tr>\n",
       "    <tr>\n",
       "      <th>Pjoge</th>\n",
       "      <td>0.787526</td>\n",
       "      <td>0.885911</td>\n",
       "      <td>0.905392</td>\n",
       "      <td>1.000000</td>\n",
       "      <td>0.652807</td>\n",
       "    </tr>\n",
       "    <tr>\n",
       "      <th>Yedgaon</th>\n",
       "      <td>0.702082</td>\n",
       "      <td>0.738039</td>\n",
       "      <td>0.720240</td>\n",
       "      <td>0.652807</td>\n",
       "      <td>1.000000</td>\n",
       "    </tr>\n",
       "  </tbody>\n",
       "</table>\n",
       "</div>"
      ],
      "text/plain": [
       "          Manikdoh     Wadaj    Dimbhe     Pjoge   Yedgaon\n",
       "Manikdoh  1.000000  0.811601  0.908733  0.787526  0.702082\n",
       "Wadaj     0.811601  1.000000  0.939233  0.885911  0.738039\n",
       "Dimbhe    0.908733  0.939233  1.000000  0.905392  0.720240\n",
       "Pjoge     0.787526  0.885911  0.905392  1.000000  0.652807\n",
       "Yedgaon   0.702082  0.738039  0.720240  0.652807  1.000000"
      ]
     },
     "execution_count": 91,
     "metadata": {},
     "output_type": "execute_result"
    }
   ],
   "source": [
    "data.corr()"
   ]
  },
  {
   "cell_type": "code",
   "execution_count": 92,
   "id": "f9063542",
   "metadata": {},
   "outputs": [
    {
     "data": {
      "text/plain": [
       "Index(['Manikdoh', 'Wadaj', 'Dimbhe', 'Pjoge', 'Yedgaon'], dtype='object')"
      ]
     },
     "execution_count": 92,
     "metadata": {},
     "output_type": "execute_result"
    }
   ],
   "source": [
    "data.columns"
   ]
  },
  {
   "cell_type": "markdown",
   "id": "4368c726",
   "metadata": {},
   "source": [
    "# Train Test Split"
   ]
  },
  {
   "cell_type": "code",
   "execution_count": 93,
   "id": "0b768c1d",
   "metadata": {},
   "outputs": [],
   "source": [
    "X = data[['Manikdoh','Wadaj', 'Dimbhe', 'Pjoge']].values #array of features\n",
    "y = data['Yedgaon'].values #array of targets"
   ]
  },
  {
   "cell_type": "code",
   "execution_count": 94,
   "id": "d8e58576",
   "metadata": {},
   "outputs": [],
   "source": [
    "from sklearn.model_selection import train_test_split\n",
    "X_train, X_test, y_train, y_test = train_test_split(X, y, test_size=0.2, random_state=10)"
   ]
  },
  {
   "cell_type": "code",
   "execution_count": 95,
   "id": "6ed4203e",
   "metadata": {},
   "outputs": [],
   "source": [
    "from sklearn.preprocessing import StandardScaler ## standrard scalig \n",
    "scaler = StandardScaler() #initialise to a variable\n",
    "scaler.fit(X_train,y_train) # we are finding the values of mean and sd from the td\n",
    "X_train_scaled = scaler.transform(X_train) # fit (mean, sd) and then transform the training data\n",
    "X_test_scaled = scaler.transform(X_test) # transform the test data "
   ]
  },
  {
   "cell_type": "code",
   "execution_count": 96,
   "id": "02d6fb87",
   "metadata": {
    "scrolled": true
   },
   "outputs": [
    {
     "data": {
      "text/plain": [
       "((1234, 4), (309, 4))"
      ]
     },
     "execution_count": 96,
     "metadata": {},
     "output_type": "execute_result"
    }
   ],
   "source": [
    "X_train.shape, X_test.shape"
   ]
  },
  {
   "cell_type": "code",
   "execution_count": 97,
   "id": "b57dc44d",
   "metadata": {},
   "outputs": [
    {
     "data": {
      "text/plain": [
       "((1234,), (309,))"
      ]
     },
     "execution_count": 97,
     "metadata": {},
     "output_type": "execute_result"
    }
   ],
   "source": [
    "y_train.shape, y_test.shape"
   ]
  },
  {
   "cell_type": "markdown",
   "id": "da9935cb",
   "metadata": {},
   "source": [
    "# Model Development"
   ]
  },
  {
   "cell_type": "code",
   "execution_count": 98,
   "id": "99a38a8b",
   "metadata": {},
   "outputs": [],
   "source": [
    "from sklearn.linear_model import LinearRegression\n",
    "from sklearn.neighbors import KNeighborsRegressor\n",
    "from sklearn.tree import DecisionTreeRegressor\n",
    "from sklearn.ensemble import RandomForestRegressor\n",
    "from sklearn.svm import SVR"
   ]
  },
  {
   "cell_type": "markdown",
   "id": "ce04ae1b",
   "metadata": {},
   "source": [
    "### 1. Linear Regression"
   ]
  },
  {
   "cell_type": "code",
   "execution_count": 99,
   "id": "ee1ffeba",
   "metadata": {},
   "outputs": [
    {
     "data": {
      "text/plain": [
       "LinearRegression()"
      ]
     },
     "execution_count": 99,
     "metadata": {},
     "output_type": "execute_result"
    }
   ],
   "source": [
    "from sklearn.linear_model import LinearRegression\n",
    "regressor = LinearRegression()\n",
    "regressor.fit(X_train_scaled, y_train)"
   ]
  },
  {
   "cell_type": "code",
   "execution_count": 100,
   "id": "c4ba6f48",
   "metadata": {},
   "outputs": [
    {
     "data": {
      "text/html": [
       "<div>\n",
       "<style scoped>\n",
       "    .dataframe tbody tr th:only-of-type {\n",
       "        vertical-align: middle;\n",
       "    }\n",
       "\n",
       "    .dataframe tbody tr th {\n",
       "        vertical-align: top;\n",
       "    }\n",
       "\n",
       "    .dataframe thead th {\n",
       "        text-align: right;\n",
       "    }\n",
       "</style>\n",
       "<table border=\"1\" class=\"dataframe\">\n",
       "  <thead>\n",
       "    <tr style=\"text-align: right;\">\n",
       "      <th></th>\n",
       "      <th>Coefficient</th>\n",
       "    </tr>\n",
       "  </thead>\n",
       "  <tbody>\n",
       "    <tr>\n",
       "      <th>Manikdoh</th>\n",
       "      <td>0.725217</td>\n",
       "    </tr>\n",
       "    <tr>\n",
       "      <th>Wadaj</th>\n",
       "      <td>1.186030</td>\n",
       "    </tr>\n",
       "    <tr>\n",
       "      <th>Dimbhe</th>\n",
       "      <td>-0.327367</td>\n",
       "    </tr>\n",
       "    <tr>\n",
       "      <th>Pjoge</th>\n",
       "      <td>-0.097152</td>\n",
       "    </tr>\n",
       "  </tbody>\n",
       "</table>\n",
       "</div>"
      ],
      "text/plain": [
       "          Coefficient\n",
       "Manikdoh     0.725217\n",
       "Wadaj        1.186030\n",
       "Dimbhe      -0.327367\n",
       "Pjoge       -0.097152"
      ]
     },
     "execution_count": 100,
     "metadata": {},
     "output_type": "execute_result"
    }
   ],
   "source": [
    "coeff_df = pd.DataFrame(regressor.coef_,['Manikdoh','Wadaj', 'Dimbhe', 'Pjoge'], columns=['Coefficient'])\n",
    "y_pred = regressor.predict(X_test_scaled)\n",
    "coeff_df"
   ]
  },
  {
   "cell_type": "code",
   "execution_count": 101,
   "id": "41dc70f3",
   "metadata": {},
   "outputs": [
    {
     "data": {
      "text/plain": [
       "638.1773743922205"
      ]
     },
     "execution_count": 101,
     "metadata": {},
     "output_type": "execute_result"
    }
   ],
   "source": [
    "regressor.intercept_"
   ]
  },
  {
   "cell_type": "code",
   "execution_count": 102,
   "id": "77616845",
   "metadata": {},
   "outputs": [
    {
     "data": {
      "text/html": [
       "<div>\n",
       "<style scoped>\n",
       "    .dataframe tbody tr th:only-of-type {\n",
       "        vertical-align: middle;\n",
       "    }\n",
       "\n",
       "    .dataframe tbody tr th {\n",
       "        vertical-align: top;\n",
       "    }\n",
       "\n",
       "    .dataframe thead th {\n",
       "        text-align: right;\n",
       "    }\n",
       "</style>\n",
       "<table border=\"1\" class=\"dataframe\">\n",
       "  <thead>\n",
       "    <tr style=\"text-align: right;\">\n",
       "      <th></th>\n",
       "      <th>Actual</th>\n",
       "      <th>Predicted</th>\n",
       "    </tr>\n",
       "  </thead>\n",
       "  <tbody>\n",
       "    <tr>\n",
       "      <th>0</th>\n",
       "      <td>634.76</td>\n",
       "      <td>635.303902</td>\n",
       "    </tr>\n",
       "    <tr>\n",
       "      <th>1</th>\n",
       "      <td>639.40</td>\n",
       "      <td>639.242743</td>\n",
       "    </tr>\n",
       "    <tr>\n",
       "      <th>2</th>\n",
       "      <td>636.77</td>\n",
       "      <td>637.478872</td>\n",
       "    </tr>\n",
       "    <tr>\n",
       "      <th>3</th>\n",
       "      <td>634.48</td>\n",
       "      <td>634.977526</td>\n",
       "    </tr>\n",
       "    <tr>\n",
       "      <th>4</th>\n",
       "      <td>636.13</td>\n",
       "      <td>636.413245</td>\n",
       "    </tr>\n",
       "    <tr>\n",
       "      <th>...</th>\n",
       "      <td>...</td>\n",
       "      <td>...</td>\n",
       "    </tr>\n",
       "    <tr>\n",
       "      <th>304</th>\n",
       "      <td>637.20</td>\n",
       "      <td>639.391890</td>\n",
       "    </tr>\n",
       "    <tr>\n",
       "      <th>305</th>\n",
       "      <td>635.91</td>\n",
       "      <td>636.500465</td>\n",
       "    </tr>\n",
       "    <tr>\n",
       "      <th>306</th>\n",
       "      <td>637.00</td>\n",
       "      <td>637.932486</td>\n",
       "    </tr>\n",
       "    <tr>\n",
       "      <th>307</th>\n",
       "      <td>636.36</td>\n",
       "      <td>636.701725</td>\n",
       "    </tr>\n",
       "    <tr>\n",
       "      <th>308</th>\n",
       "      <td>639.97</td>\n",
       "      <td>638.738332</td>\n",
       "    </tr>\n",
       "  </tbody>\n",
       "</table>\n",
       "<p>309 rows × 2 columns</p>\n",
       "</div>"
      ],
      "text/plain": [
       "     Actual   Predicted\n",
       "0    634.76  635.303902\n",
       "1    639.40  639.242743\n",
       "2    636.77  637.478872\n",
       "3    634.48  634.977526\n",
       "4    636.13  636.413245\n",
       "..      ...         ...\n",
       "304  637.20  639.391890\n",
       "305  635.91  636.500465\n",
       "306  637.00  637.932486\n",
       "307  636.36  636.701725\n",
       "308  639.97  638.738332\n",
       "\n",
       "[309 rows x 2 columns]"
      ]
     },
     "execution_count": 102,
     "metadata": {},
     "output_type": "execute_result"
    }
   ],
   "source": [
    "df = pd.DataFrame({'Actual': y_test, 'Predicted': y_pred})\n",
    "df"
   ]
  },
  {
   "cell_type": "code",
   "execution_count": 103,
   "id": "ea18375b",
   "metadata": {
    "scrolled": true
   },
   "outputs": [
    {
     "data": {
      "text/html": [
       "<div>\n",
       "<style scoped>\n",
       "    .dataframe tbody tr th:only-of-type {\n",
       "        vertical-align: middle;\n",
       "    }\n",
       "\n",
       "    .dataframe tbody tr th {\n",
       "        vertical-align: top;\n",
       "    }\n",
       "\n",
       "    .dataframe thead th {\n",
       "        text-align: right;\n",
       "    }\n",
       "</style>\n",
       "<table border=\"1\" class=\"dataframe\">\n",
       "  <thead>\n",
       "    <tr style=\"text-align: right;\">\n",
       "      <th></th>\n",
       "      <th>Actual</th>\n",
       "      <th>Predicted</th>\n",
       "    </tr>\n",
       "  </thead>\n",
       "  <tbody>\n",
       "    <tr>\n",
       "      <th>Actual</th>\n",
       "      <td>1.000000</td>\n",
       "      <td>0.764801</td>\n",
       "    </tr>\n",
       "    <tr>\n",
       "      <th>Predicted</th>\n",
       "      <td>0.764801</td>\n",
       "      <td>1.000000</td>\n",
       "    </tr>\n",
       "  </tbody>\n",
       "</table>\n",
       "</div>"
      ],
      "text/plain": [
       "             Actual  Predicted\n",
       "Actual     1.000000   0.764801\n",
       "Predicted  0.764801   1.000000"
      ]
     },
     "execution_count": 103,
     "metadata": {},
     "output_type": "execute_result"
    }
   ],
   "source": [
    "df.corr()"
   ]
  },
  {
   "cell_type": "code",
   "execution_count": 104,
   "id": "6d9d3d9c",
   "metadata": {},
   "outputs": [
    {
     "name": "stdout",
     "output_type": "stream",
     "text": [
      "R2- SCORE: 0.5844072614629789\n"
     ]
    }
   ],
   "source": [
    "from sklearn import metrics\n",
    "print('R2- SCORE:', metrics.r2_score(y_test,y_pred))"
   ]
  },
  {
   "cell_type": "markdown",
   "id": "0696a6f8",
   "metadata": {},
   "source": [
    "# Feature Selection"
   ]
  },
  {
   "cell_type": "code",
   "execution_count": 105,
   "id": "ec973b80",
   "metadata": {},
   "outputs": [
    {
     "data": {
      "text/plain": [
       "[('Manikdoh', True), ('Wadaj', True), ('Dimbhe', True), ('Pjoge', False)]"
      ]
     },
     "execution_count": 105,
     "metadata": {},
     "output_type": "execute_result"
    }
   ],
   "source": [
    "from sklearn.feature_selection import RFE\n",
    "estimator = LinearRegression()\n",
    "selector = RFE(estimator, n_features_to_select=3, step=1)\n",
    "selector = selector.fit(X_train_scaled, y_train)\n",
    "list(zip(['Manikdoh','Wadaj', 'Dimbhe', 'Pjoge'],selector.support_))"
   ]
  },
  {
   "cell_type": "markdown",
   "id": "fb58da39",
   "metadata": {},
   "source": [
    "# Cross Validation"
   ]
  },
  {
   "cell_type": "code",
   "execution_count": 106,
   "id": "941aa0b8",
   "metadata": {},
   "outputs": [],
   "source": [
    "from sklearn.model_selection import cross_validate\n",
    "regressor = LinearRegression(normalize = True) #untrained model"
   ]
  },
  {
   "cell_type": "code",
   "execution_count": 107,
   "id": "a41d28d3",
   "metadata": {},
   "outputs": [
    {
     "data": {
      "text/plain": [
       "-0.4140639782227603"
      ]
     },
     "execution_count": 107,
     "metadata": {},
     "output_type": "execute_result"
    }
   ],
   "source": [
    "cv_results = cross_validate(regressor, X, y, cv=10, scoring = \"r2\")\n",
    "cv_results['test_score'].mean()"
   ]
  },
  {
   "cell_type": "markdown",
   "id": "dabd5e01",
   "metadata": {},
   "source": [
    "### 2. Decision Tree Regressor"
   ]
  },
  {
   "cell_type": "code",
   "execution_count": 108,
   "id": "7cc2a0c8",
   "metadata": {},
   "outputs": [
    {
     "data": {
      "text/plain": [
       "array([634.69, 639.14, 636.77, 634.44, 636.07, 638.09, 639.18, 641.  ,\n",
       "       640.98, 641.  , 637.83, 638.06, 636.48, 639.15, 637.53, 638.06,\n",
       "       634.28, 639.13, 634.22, 636.39, 641.  , 638.8 , 641.  , 636.74,\n",
       "       638.13, 637.7 , 638.75, 638.37, 640.1 , 641.  , 639.09, 635.79,\n",
       "       640.99, 636.09, 637.19, 638.23, 635.86, 640.48, 639.52, 638.65,\n",
       "       636.14, 635.94, 635.33, 635.66, 638.04, 640.4 , 637.04, 636.04,\n",
       "       639.94, 640.99, 640.83, 638.29, 636.51, 639.99, 636.23, 640.28,\n",
       "       638.83, 636.07, 635.99, 639.22, 635.11, 640.34, 639.24, 636.95,\n",
       "       637.5 , 640.62, 635.95, 640.82, 636.09, 640.55, 637.14, 640.1 ,\n",
       "       640.38, 637.67, 639.43, 640.82, 640.  , 635.54, 639.02, 639.02,\n",
       "       639.5 , 636.25, 638.85, 639.31, 637.66, 641.  , 640.41, 636.06,\n",
       "       636.4 , 641.  , 640.76, 640.36, 635.17, 636.52, 635.95, 636.11,\n",
       "       635.98, 637.35, 639.33, 640.52, 636.34, 636.04, 641.  , 636.74,\n",
       "       636.34, 634.28, 637.49, 638.81, 636.67, 639.09, 638.99, 637.89,\n",
       "       639.31, 636.15, 640.04, 639.11, 637.41, 638.52, 634.64, 641.  ,\n",
       "       639.39, 639.74, 638.52, 635.34, 638.33, 641.  , 641.  , 635.16,\n",
       "       641.  , 640.37, 637.88, 636.3 , 640.92, 640.96, 638.15, 636.24,\n",
       "       637.66, 639.3 , 636.52, 641.  , 641.  , 641.  , 637.15, 639.43,\n",
       "       638.41, 635.46, 640.86, 640.27, 638.06, 636.5 , 636.57, 639.03,\n",
       "       639.95, 639.35, 636.66, 636.31, 640.81, 636.23, 639.23, 640.98,\n",
       "       638.22, 635.07, 636.73, 636.92, 639.22, 636.25, 640.61, 636.97,\n",
       "       640.37, 639.91, 641.  , 635.79, 637.94, 641.  , 641.  , 636.51,\n",
       "       638.92, 638.8 , 635.95, 641.  , 640.75, 636.01, 637.7 , 638.49,\n",
       "       636.06, 637.89, 635.18, 637.83, 635.75, 640.58, 636.38, 638.81,\n",
       "       641.  , 636.3 , 640.4 , 640.04, 639.33, 637.36, 636.71, 636.02,\n",
       "       637.41, 637.12, 637.86, 636.54, 638.73, 640.92, 637.56, 640.34,\n",
       "       638.56, 637.91, 636.44, 636.38, 636.14, 636.33, 639.66, 636.37,\n",
       "       638.94, 636.04, 638.01, 639.15, 640.96, 637.86, 636.59, 637.03,\n",
       "       639.59, 635.51, 637.48, 636.49, 638.21, 636.62, 640.1 , 638.49,\n",
       "       641.  , 636.6 , 635.98, 636.89, 634.67, 636.19, 641.  , 636.19,\n",
       "       640.99, 637.86, 636.06, 635.66, 637.28, 639.11, 638.53, 638.75,\n",
       "       636.86, 639.22, 640.5 , 636.35, 637.56, 637.32, 636.15, 640.92,\n",
       "       641.  , 635.93, 634.26, 636.19, 640.81, 639.1 , 638.28, 636.78,\n",
       "       637.05, 637.06, 634.55, 640.99, 639.84, 635.66, 641.  , 635.86,\n",
       "       638.47, 641.  , 641.  , 640.94, 641.  , 635.94, 639.66, 636.65,\n",
       "       640.96, 640.62, 636.93, 638.  , 641.  , 637.89, 635.99, 638.11,\n",
       "       640.92, 636.89, 636.66, 638.27, 638.84, 640.5 , 639.02, 636.78,\n",
       "       641.  , 636.61, 639.61, 636.5 , 637.15, 636.09, 640.55, 635.55,\n",
       "       637.1 , 635.88, 636.97, 636.51, 639.33])"
      ]
     },
     "execution_count": 108,
     "metadata": {},
     "output_type": "execute_result"
    }
   ],
   "source": [
    "from sklearn.tree import DecisionTreeRegressor\n",
    "\n",
    "# Instantiate dt\n",
    "dt = DecisionTreeRegressor()\n",
    "\n",
    "# Fit dt to the training set\n",
    "dt.fit(X_train, y_train)\n",
    "dt.predict(X_test)"
   ]
  },
  {
   "cell_type": "code",
   "execution_count": 109,
   "id": "90d7328c",
   "metadata": {},
   "outputs": [
    {
     "name": "stdout",
     "output_type": "stream",
     "text": [
      "Test set R2 of dt: 0.96\n"
     ]
    }
   ],
   "source": [
    "from sklearn.metrics import  r2_score\n",
    "\n",
    "# Compute y_pred\n",
    "y_pred = dt.predict(X_test)\n",
    "\n",
    "# Compute mse_dt\n",
    "rsquared = r2_score(y_test,y_pred)\n",
    "# Compute rmse_dt\n",
    "\n",
    "\n",
    "# Print rmse_dt\n",
    "print(\"Test set R2 of dt: {:.2f}\".format(rsquared))"
   ]
  },
  {
   "cell_type": "markdown",
   "id": "c63dc695",
   "metadata": {},
   "source": [
    "- Inference: The model built on Decision Tree Regressor Analysis gives an accuracy of 82%"
   ]
  },
  {
   "cell_type": "markdown",
   "id": "1629cb4d",
   "metadata": {},
   "source": [
    "### 3. KNN Regression"
   ]
  },
  {
   "cell_type": "code",
   "execution_count": 110,
   "id": "f7c202b7",
   "metadata": {},
   "outputs": [
    {
     "name": "stdout",
     "output_type": "stream",
     "text": [
      "Training for 5th Neighbor:  0.977635245068715\n",
      "Training for 6th Neighbor:  0.9755185796646852\n",
      "Training for 7th Neighbor:  0.9727689713944033\n",
      "Training for 8th Neighbor:  0.9668799623152732\n",
      "Training for 9th Neighbor:  0.9647954465430574\n",
      "Training for 10th Neighbor:  0.9612789860812324\n",
      "Training for 11th Neighbor:  0.9584264551723255\n",
      "Training for 12th Neighbor:  0.9557023207459007\n",
      "Training for 13th Neighbor:  0.9529132211313714\n",
      "Training for 14th Neighbor:  0.9490248691326567\n",
      "Training for 15th Neighbor:  0.943936307622237\n",
      "Training for 16th Neighbor:  0.9381606875086071\n",
      "Training for 17th Neighbor:  0.9340193943039082\n",
      "Training for 18th Neighbor:  0.9290366067653003\n",
      "Training for 19th Neighbor:  0.9258652185727804\n",
      "Training for 20th Neighbor:  0.9216770498179321\n",
      "Training for 21th Neighbor:  0.9183723053423376\n",
      "Training for 22th Neighbor:  0.9146114294246015\n",
      "Training for 23th Neighbor:  0.9101841317855058\n",
      "Training for 24th Neighbor:  0.9062326273335413\n",
      "Training for 25th Neighbor:  0.9027329256263289\n",
      "Training for 26th Neighbor:  0.8992034061310423\n",
      "Training for 27th Neighbor:  0.8967292699198032\n",
      "Training for 28th Neighbor:  0.8918127781794232\n",
      "Training for 29th Neighbor:  0.8886550966208063\n",
      "Training for 30th Neighbor:  0.88498182504227\n",
      "Training for 31th Neighbor:  0.8810684510304362\n",
      "Training for 32th Neighbor:  0.8773843228662522\n",
      "Training for 33th Neighbor:  0.8733319190492854\n",
      "Training for 34th Neighbor:  0.870541138178545\n",
      "Training for 35th Neighbor:  0.8666367589948166\n",
      "Training for 36th Neighbor:  0.8629246383396834\n",
      "Training for 37th Neighbor:  0.8599464930921451\n",
      "Training for 38th Neighbor:  0.8570489211364216\n",
      "Training for 39th Neighbor:  0.8544879471551275\n",
      "Training for 40th Neighbor:  0.8516559867816753\n",
      "Training for 41th Neighbor:  0.848344760986914\n",
      "Training for 42th Neighbor:  0.8447393605439854\n",
      "Training for 43th Neighbor:  0.842590401272515\n",
      "Training for 44th Neighbor:  0.839393535243671\n",
      "Training for 45th Neighbor:  0.8358664762047311\n",
      "Training for 46th Neighbor:  0.8333344764018737\n",
      "Training for 47th Neighbor:  0.8318516239147118\n",
      "Training for 48th Neighbor:  0.8301252776774728\n",
      "Training for 49th Neighbor:  0.827038688980438\n",
      "Training for 50th Neighbor:  0.825333551768953\n",
      "Training for 51th Neighbor:  0.8234463733028741\n",
      "Training for 52th Neighbor:  0.820704893620176\n",
      "Training for 53th Neighbor:  0.818931716842449\n",
      "Training for 54th Neighbor:  0.8164863123353284\n",
      "Training for 55th Neighbor:  0.8137550445856006\n",
      "Training for 56th Neighbor:  0.8127057316004805\n",
      "Training for 57th Neighbor:  0.8104913782747531\n",
      "Training for 58th Neighbor:  0.8085976691689669\n",
      "Training for 59th Neighbor:  0.8060640034642836\n",
      "Training for 60th Neighbor:  0.8038303348592416\n",
      "Training for 61th Neighbor:  0.8026058238924085\n",
      "Training for 62th Neighbor:  0.7998703870102938\n",
      "Training for 63th Neighbor:  0.7976511973012724\n",
      "Training for 64th Neighbor:  0.7950762788033874\n",
      "Training for 65th Neighbor:  0.792864582675666\n",
      "Training for 66th Neighbor:  0.7904951147711027\n",
      "Training for 67th Neighbor:  0.7881635784762778\n",
      "Training for 68th Neighbor:  0.7863417773717557\n",
      "Training for 69th Neighbor:  0.7844633243878352\n",
      "Training for 70th Neighbor:  0.7831087248279676\n",
      "Training for 71th Neighbor:  0.7810557452739509\n",
      "Training for 72th Neighbor:  0.7792215325035952\n",
      "Training for 73th Neighbor:  0.7773012362640205\n",
      "Training for 74th Neighbor:  0.7762962601839736\n",
      "Training for 75th Neighbor:  0.7746948775479986\n",
      "Training for 76th Neighbor:  0.7733539908849387\n",
      "Training for 77th Neighbor:  0.7719261372680055\n",
      "Training for 78th Neighbor:  0.7701887688837831\n",
      "Training for 79th Neighbor:  0.7686391092141018\n",
      "Training for 80th Neighbor:  0.7670375926592086\n",
      "Training for 81th Neighbor:  0.7661874981861532\n",
      "Training for 82th Neighbor:  0.7646275785225779\n",
      "Training for 83th Neighbor:  0.7627892245138789\n",
      "Training for 84th Neighbor:  0.7609087166001443\n",
      "Training for 85th Neighbor:  0.7590684937230128\n",
      "Training for 86th Neighbor:  0.7580968862929756\n",
      "Training for 87th Neighbor:  0.7565191272487677\n",
      "Training for 88th Neighbor:  0.7555499675654462\n",
      "Training for 89th Neighbor:  0.753678357575579\n",
      "Training for 90th Neighbor:  0.7521930727653916\n",
      "Training for 91th Neighbor:  0.7512963648807359\n",
      "Training for 92th Neighbor:  0.7494281847439377\n",
      "Training for 93th Neighbor:  0.7484646804664079\n",
      "Training for 94th Neighbor:  0.7477693063595383\n",
      "Training for 95th Neighbor:  0.7462178993457733\n",
      "Training for 96th Neighbor:  0.7447536014288831\n",
      "Training for 97th Neighbor:  0.7435850643515274\n",
      "Training for 98th Neighbor:  0.7428156747485335\n",
      "Training for 99th Neighbor:  0.7415733436841421\n",
      "Training for 100th Neighbor:  0.7406549112763766\n",
      "Training for 101th Neighbor:  0.739269315919828\n",
      "Training for 102th Neighbor:  0.7377500226504219\n",
      "Training for 103th Neighbor:  0.7366020784317767\n",
      "Training for 104th Neighbor:  0.7350279629480269\n",
      "Training for 105th Neighbor:  0.7342381866025459\n",
      "Training for 106th Neighbor:  0.7330582037072044\n",
      "Training for 107th Neighbor:  0.7315560827959824\n",
      "Training for 108th Neighbor:  0.730692019282097\n",
      "Training for 109th Neighbor:  0.7287662648177167\n",
      "Training for 110th Neighbor:  0.7276349144738097\n",
      "Training for 111th Neighbor:  0.7263251180403644\n",
      "Training for 112th Neighbor:  0.7248853417476289\n",
      "Training for 113th Neighbor:  0.7242333640980281\n",
      "Training for 114th Neighbor:  0.722979802069978\n",
      "Training for 115th Neighbor:  0.7217338293493298\n",
      "Training for 116th Neighbor:  0.7202177751622673\n",
      "Training for 117th Neighbor:  0.7187498960446299\n",
      "Training for 118th Neighbor:  0.7177376932822146\n",
      "Training for 119th Neighbor:  0.7170777824500856\n",
      "Training for 120th Neighbor:  0.7156989187782514\n",
      "Training for 121th Neighbor:  0.7143399842554098\n",
      "Training for 122th Neighbor:  0.713952680599647\n",
      "Training for 123th Neighbor:  0.7127581077167064\n",
      "Training for 124th Neighbor:  0.7120146868508406\n",
      "Training for 125th Neighbor:  0.7110157720077479\n",
      "Training for 126th Neighbor:  0.7092770012172307\n",
      "Training for 127th Neighbor:  0.7082333708900117\n",
      "Training for 128th Neighbor:  0.7071171510053977\n",
      "Training for 129th Neighbor:  0.7055958832445788\n",
      "Training for 130th Neighbor:  0.7044215376174994\n",
      "Training for 131th Neighbor:  0.702674401174882\n",
      "Training for 132th Neighbor:  0.7012545480701491\n",
      "Training for 133th Neighbor:  0.7002603195615746\n",
      "Training for 134th Neighbor:  0.6985341595656582\n",
      "Training for 135th Neighbor:  0.6972526218045959\n",
      "Training for 136th Neighbor:  0.6961667059981567\n",
      "Training for 137th Neighbor:  0.6948766167066425\n",
      "Training for 138th Neighbor:  0.6934605204982123\n",
      "Training for 139th Neighbor:  0.6919306457420453\n",
      "Training for 140th Neighbor:  0.6908442883744002\n",
      "Training for 141th Neighbor:  0.6892691474804278\n",
      "Training for 142th Neighbor:  0.6878175177679133\n",
      "Training for 143th Neighbor:  0.6864861953975689\n",
      "Training for 144th Neighbor:  0.6843760145102149\n",
      "Training for 145th Neighbor:  0.6823029696320313\n",
      "Training for 146th Neighbor:  0.6810140116495258\n",
      "Training for 147th Neighbor:  0.679626205572789\n",
      "Training for 148th Neighbor:  0.6781013500694832\n",
      "Training for 149th Neighbor:  0.6765730299595429\n"
     ]
    }
   ],
   "source": [
    "for i in range(5,150):\n",
    "    KN = KNeighborsRegressor(n_neighbors = i)\n",
    "    KN.fit(X_train, y_train)\n",
    "    print(\"Training for {}th Neighbor: \".format(i), KN.score(X_test,y_test))"
   ]
  },
  {
   "cell_type": "markdown",
   "id": "1a25aa55",
   "metadata": {},
   "source": [
    "- Inference: The model built on KNN Regression Analysis gives an accuracy of 97.76%"
   ]
  },
  {
   "cell_type": "markdown",
   "id": "11405549",
   "metadata": {},
   "source": [
    "### 4. Support Vector Machine"
   ]
  },
  {
   "cell_type": "code",
   "execution_count": 111,
   "id": "0ec42bf1",
   "metadata": {},
   "outputs": [
    {
     "name": "stdout",
     "output_type": "stream",
     "text": [
      "for c =  0.01\n",
      "Training Score:  0.30929844893101177\n",
      "Testing Score:  0.32443664048750775\n",
      "for c =  0.51\n",
      "Training Score:  0.9488815711129666\n",
      "Testing Score:  0.9665159630498598\n",
      "for c =  1.01\n",
      "Training Score:  0.967805031610697\n",
      "Testing Score:  0.9761381141009966\n",
      "for c =  1.51\n",
      "Training Score:  0.9749159213169957\n",
      "Testing Score:  0.9792943011024379\n",
      "for c =  2.01\n",
      "Training Score:  0.978427695321836\n",
      "Testing Score:  0.9809649809898835\n",
      "for c =  2.51\n",
      "Training Score:  0.9807976198165506\n",
      "Testing Score:  0.9819614683377456\n",
      "for c =  3.01\n",
      "Training Score:  0.9826943225250448\n",
      "Testing Score:  0.9831912503413065\n",
      "for c =  3.51\n",
      "Training Score:  0.9837527917722321\n",
      "Testing Score:  0.9838114424907146\n",
      "for c =  4.01\n",
      "Training Score:  0.9847089697625381\n",
      "Testing Score:  0.9843850877826718\n",
      "for c =  4.51\n",
      "Training Score:  0.9855354807912122\n",
      "Testing Score:  0.9850879000862532\n"
     ]
    }
   ],
   "source": [
    "for k in np.arange(0.01,5,0.5):\n",
    "    SV = SVR(C=k, gamma = 'auto')\n",
    "    SV.fit(X_train,y_train)\n",
    "    print(\"for c = \", k)\n",
    "    print(\"Training Score: \", SV.score(X_train, y_train))\n",
    "    print(\"Testing Score: \", SV.score(X_test, y_test))"
   ]
  },
  {
   "cell_type": "markdown",
   "id": "49f4559b",
   "metadata": {},
   "source": [
    "- Inference: The model built on Support Vector Machine Analysis gives an accuracy of 32.44%"
   ]
  },
  {
   "cell_type": "markdown",
   "id": "2b19e1df",
   "metadata": {},
   "source": [
    "### 5. Random Forest"
   ]
  },
  {
   "cell_type": "code",
   "execution_count": 112,
   "id": "cdcfc506",
   "metadata": {},
   "outputs": [
    {
     "name": "stdout",
     "output_type": "stream",
     "text": [
      "for max depth =  3\n",
      "Training score:  0.7525136393678146\n",
      "Testing score:  0.7280622486034024\n",
      "for max depth =  4\n",
      "Training score:  0.8358913830904191\n",
      "Testing score:  0.8107144379294599\n",
      "for max depth =  5\n",
      "Training score:  0.8922821682225008\n",
      "Testing score:  0.8752998690365955\n",
      "for max depth =  6\n",
      "Training score:  0.9319809852382682\n",
      "Testing score:  0.916196183864148\n",
      "for max depth =  7\n",
      "Training score:  0.9554915547134336\n",
      "Testing score:  0.9374676075443746\n",
      "for max depth =  8\n",
      "Training score:  0.972082411605437\n",
      "Testing score:  0.9520671531221289\n",
      "for max depth =  9\n",
      "Training score:  0.9824261422360484\n",
      "Testing score:  0.9612291635610924\n",
      "for max depth =  10\n",
      "Training score:  0.9883100257708013\n",
      "Testing score:  0.9672783433000595\n",
      "for max depth =  11\n",
      "Training score:  0.9910052662805399\n",
      "Testing score:  0.9706406642213046\n",
      "for max depth =  12\n",
      "Training score:  0.9925821849772323\n",
      "Testing score:  0.9702325537203879\n",
      "for max depth =  13\n",
      "Training score:  0.9936928348809786\n",
      "Testing score:  0.9731691262190636\n",
      "for max depth =  14\n",
      "Training score:  0.9941315842192451\n",
      "Testing score:  0.9721184770641251\n"
     ]
    }
   ],
   "source": [
    "dict = {}\n",
    "for i in range(3,15):\n",
    "    rf = RandomForestRegressor(max_depth = i)\n",
    "    rf.fit(X_train, y_train)\n",
    "    dict[i] = {'tr': rf.score(X_train, y_train), 'te':rf.score(X_test, y_test)}\n",
    "    print(\"for max depth = \", i)\n",
    "    print(\"Training score: \", rf.score(X_train, y_train))\n",
    "    print(\"Testing score: \", rf.score(X_test, y_test))"
   ]
  },
  {
   "cell_type": "markdown",
   "id": "15bee889",
   "metadata": {},
   "source": [
    "- Inference: The model built on Random Forest Analysis gives an accuracy of 97.36% "
   ]
  },
  {
   "cell_type": "markdown",
   "id": "d3abc057",
   "metadata": {},
   "source": [
    "# Conclusion"
   ]
  },
  {
   "cell_type": "markdown",
   "id": "cb2b32a6",
   "metadata": {},
   "source": [
    "Considering all the accuracy values given by all the five models, it is observed that Random Forest Model and KNN Regression Model performed with the best accuracy of 97%."
   ]
  }
 ],
 "metadata": {
  "kernelspec": {
   "display_name": "Python 3 (ipykernel)",
   "language": "python",
   "name": "python3"
  },
  "language_info": {
   "codemirror_mode": {
    "name": "ipython",
    "version": 3
   },
   "file_extension": ".py",
   "mimetype": "text/x-python",
   "name": "python",
   "nbconvert_exporter": "python",
   "pygments_lexer": "ipython3",
   "version": "3.9.7"
  }
 },
 "nbformat": 4,
 "nbformat_minor": 5
}
