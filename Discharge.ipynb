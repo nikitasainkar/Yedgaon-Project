{
 "cells": [
  {
   "cell_type": "markdown",
   "id": "c386680f",
   "metadata": {},
   "source": [
    "# Yedgaon Discharge Prediction"
   ]
  },
  {
   "cell_type": "markdown",
   "id": "cc1442d0",
   "metadata": {},
   "source": [
    "#### Brief: \n",
    "The present work aims at developing a model for reservoir operation using Machine Learning tools in the Kukadi project of Maharashtra State, India. In this study, the data sets at five different stations located in Kukadi Project are used. Kukadi Irrigation Project envisages cluster of 5 major dams (named Dimbhe, Manikdoh, Wadaj, Pimplgaojoge and Yedgaon) having irrigation potential of 155056 Ha with annual 943.98 Mm3 (33.33 TMC) water utilization. The Yedgaon dam is like pick up weir having its own yield and storage. It receives water from Dimbhe (though DLBC), Wadaj (through MLBC), Manikdoh (through river) and through Pimpalgaojoge (through river).\n",
    "\n",
    "#### Problem Statement: \n",
    "The aim of the present work is develop a model to estimate the discharge at Manikdoh, Wadaj, Dimbhe and Pimpalgaojoge dams to estimate the same at Yedgaon and analyze the results\n",
    "\n",
    "#### Objective: \n",
    "Development of model using the discharge values at upstream (Manikdoh, Wadaj, Dimbhe, Pimpalgaojoge) stations and downstream (Yedgaon) station.\n",
    "Comparison of the results using various soft computing tools i.e. actual values and predicted values at Yedgaon dam.\n",
    "\n",
    "\n",
    "#### Dataset: \n",
    "Daily Discharge Data values was obtained from the Irrigation Department, Narayangaon from 1st June 2015 to 31st August 2019 each for Manikdoh, Dimbhe, Wadaj, Pimplgaojoge and Yedgaon for Kukadi Irrigation Project. \n",
    "The total no. of observations for daily discharge data available for each station is 592.\n",
    "\n",
    "#### Methodology:\n",
    "The project follows the process: Data Gathering, Exploratory Data Analysis, Feature Engineering and finally Machine Learning. The model is developed using Linear Regression, Decision Tree Regressor, KNN Regression, Support Vector Machine and Random Forest. Further, Concluding by the results in terms of R2."
   ]
  },
  {
   "cell_type": "markdown",
   "id": "0d9a46d9",
   "metadata": {},
   "source": [
    "# Importing Libraries"
   ]
  },
  {
   "cell_type": "code",
   "execution_count": 161,
   "id": "c60d2711",
   "metadata": {},
   "outputs": [],
   "source": [
    "import pandas as pd \n",
    "import seaborn as sns \n",
    "import numpy as np \n",
    "import matplotlib.pyplot as plt \n",
    "import sklearn\n",
    "import warnings \n",
    "warnings.filterwarnings('ignore')\n",
    "\n",
    "from sklearn.model_selection import train_test_split\n",
    "from sklearn.preprocessing import StandardScaler\n",
    "from sklearn.model_selection import cross_validate\n",
    "\n",
    "from sklearn.linear_model import LinearRegression\n",
    "from sklearn.neighbors import KNeighborsRegressor\n",
    "from sklearn.tree import DecisionTreeRegressor\n",
    "from sklearn.ensemble import RandomForestRegressor\n",
    "from sklearn.svm import SVR"
   ]
  },
  {
   "cell_type": "markdown",
   "id": "f0f7f12d",
   "metadata": {},
   "source": [
    "# Reading the data"
   ]
  },
  {
   "cell_type": "code",
   "execution_count": 162,
   "id": "cefc34f8",
   "metadata": {},
   "outputs": [],
   "source": [
    "import pandas as pd\n",
    "data = pd.read_csv('Discharge Data.csv')"
   ]
  },
  {
   "cell_type": "code",
   "execution_count": 163,
   "id": "e2607822",
   "metadata": {},
   "outputs": [
    {
     "data": {
      "text/html": [
       "<div>\n",
       "<style scoped>\n",
       "    .dataframe tbody tr th:only-of-type {\n",
       "        vertical-align: middle;\n",
       "    }\n",
       "\n",
       "    .dataframe tbody tr th {\n",
       "        vertical-align: top;\n",
       "    }\n",
       "\n",
       "    .dataframe thead th {\n",
       "        text-align: right;\n",
       "    }\n",
       "</style>\n",
       "<table border=\"1\" class=\"dataframe\">\n",
       "  <thead>\n",
       "    <tr style=\"text-align: right;\">\n",
       "      <th></th>\n",
       "      <th>Manikdoh</th>\n",
       "      <th>Wadaj</th>\n",
       "      <th>Dimbhe</th>\n",
       "      <th>Pjoge</th>\n",
       "      <th>Yedgaon</th>\n",
       "    </tr>\n",
       "  </thead>\n",
       "  <tbody>\n",
       "    <tr>\n",
       "      <th>0</th>\n",
       "      <td>0</td>\n",
       "      <td>0</td>\n",
       "      <td>300</td>\n",
       "      <td>0</td>\n",
       "      <td>515</td>\n",
       "    </tr>\n",
       "    <tr>\n",
       "      <th>1</th>\n",
       "      <td>0</td>\n",
       "      <td>0</td>\n",
       "      <td>500</td>\n",
       "      <td>0</td>\n",
       "      <td>1306</td>\n",
       "    </tr>\n",
       "    <tr>\n",
       "      <th>2</th>\n",
       "      <td>0</td>\n",
       "      <td>0</td>\n",
       "      <td>550</td>\n",
       "      <td>0</td>\n",
       "      <td>1400</td>\n",
       "    </tr>\n",
       "    <tr>\n",
       "      <th>3</th>\n",
       "      <td>0</td>\n",
       "      <td>0</td>\n",
       "      <td>600</td>\n",
       "      <td>0</td>\n",
       "      <td>1405</td>\n",
       "    </tr>\n",
       "    <tr>\n",
       "      <th>4</th>\n",
       "      <td>0</td>\n",
       "      <td>0</td>\n",
       "      <td>650</td>\n",
       "      <td>0</td>\n",
       "      <td>1400</td>\n",
       "    </tr>\n",
       "  </tbody>\n",
       "</table>\n",
       "</div>"
      ],
      "text/plain": [
       "   Manikdoh  Wadaj  Dimbhe  Pjoge  Yedgaon\n",
       "0         0      0     300      0      515\n",
       "1         0      0     500      0     1306\n",
       "2         0      0     550      0     1400\n",
       "3         0      0     600      0     1405\n",
       "4         0      0     650      0     1400"
      ]
     },
     "execution_count": 163,
     "metadata": {},
     "output_type": "execute_result"
    }
   ],
   "source": [
    "data.head()"
   ]
  },
  {
   "cell_type": "markdown",
   "id": "131fcd4c",
   "metadata": {},
   "source": [
    "# Preliminary Investigation"
   ]
  },
  {
   "cell_type": "code",
   "execution_count": 164,
   "id": "0529f2a2",
   "metadata": {
    "scrolled": true
   },
   "outputs": [
    {
     "name": "stdout",
     "output_type": "stream",
     "text": [
      "<class 'pandas.core.frame.DataFrame'>\n",
      "RangeIndex: 592 entries, 0 to 591\n",
      "Data columns (total 5 columns):\n",
      " #   Column    Non-Null Count  Dtype\n",
      "---  ------    --------------  -----\n",
      " 0   Manikdoh  592 non-null    int64\n",
      " 1   Wadaj     592 non-null    int64\n",
      " 2   Dimbhe    592 non-null    int64\n",
      " 3   Pjoge     592 non-null    int64\n",
      " 4   Yedgaon   592 non-null    int64\n",
      "dtypes: int64(5)\n",
      "memory usage: 23.2 KB\n"
     ]
    }
   ],
   "source": [
    "data.info()"
   ]
  },
  {
   "cell_type": "code",
   "execution_count": 165,
   "id": "f44ee151",
   "metadata": {},
   "outputs": [
    {
     "data": {
      "text/plain": [
       "(592, 5)"
      ]
     },
     "execution_count": 165,
     "metadata": {},
     "output_type": "execute_result"
    }
   ],
   "source": [
    "data.shape"
   ]
  },
  {
   "cell_type": "code",
   "execution_count": 166,
   "id": "55f4050e",
   "metadata": {},
   "outputs": [
    {
     "data": {
      "text/html": [
       "<div>\n",
       "<style scoped>\n",
       "    .dataframe tbody tr th:only-of-type {\n",
       "        vertical-align: middle;\n",
       "    }\n",
       "\n",
       "    .dataframe tbody tr th {\n",
       "        vertical-align: top;\n",
       "    }\n",
       "\n",
       "    .dataframe thead th {\n",
       "        text-align: right;\n",
       "    }\n",
       "</style>\n",
       "<table border=\"1\" class=\"dataframe\">\n",
       "  <thead>\n",
       "    <tr style=\"text-align: right;\">\n",
       "      <th></th>\n",
       "      <th>Manikdoh</th>\n",
       "      <th>Wadaj</th>\n",
       "      <th>Dimbhe</th>\n",
       "      <th>Pjoge</th>\n",
       "      <th>Yedgaon</th>\n",
       "    </tr>\n",
       "  </thead>\n",
       "  <tbody>\n",
       "    <tr>\n",
       "      <th>count</th>\n",
       "      <td>592.000000</td>\n",
       "      <td>592.000000</td>\n",
       "      <td>592.000000</td>\n",
       "      <td>592.000000</td>\n",
       "      <td>592.000000</td>\n",
       "    </tr>\n",
       "    <tr>\n",
       "      <th>mean</th>\n",
       "      <td>276.081081</td>\n",
       "      <td>69.302365</td>\n",
       "      <td>479.797297</td>\n",
       "      <td>257.743243</td>\n",
       "      <td>1444.858108</td>\n",
       "    </tr>\n",
       "    <tr>\n",
       "      <th>std</th>\n",
       "      <td>456.299965</td>\n",
       "      <td>97.774672</td>\n",
       "      <td>192.400570</td>\n",
       "      <td>452.092767</td>\n",
       "      <td>881.017156</td>\n",
       "    </tr>\n",
       "    <tr>\n",
       "      <th>min</th>\n",
       "      <td>0.000000</td>\n",
       "      <td>0.000000</td>\n",
       "      <td>0.000000</td>\n",
       "      <td>0.000000</td>\n",
       "      <td>138.000000</td>\n",
       "    </tr>\n",
       "    <tr>\n",
       "      <th>25%</th>\n",
       "      <td>0.000000</td>\n",
       "      <td>0.000000</td>\n",
       "      <td>500.000000</td>\n",
       "      <td>0.000000</td>\n",
       "      <td>1303.000000</td>\n",
       "    </tr>\n",
       "    <tr>\n",
       "      <th>50%</th>\n",
       "      <td>0.000000</td>\n",
       "      <td>0.000000</td>\n",
       "      <td>550.000000</td>\n",
       "      <td>0.000000</td>\n",
       "      <td>1400.000000</td>\n",
       "    </tr>\n",
       "    <tr>\n",
       "      <th>75%</th>\n",
       "      <td>600.000000</td>\n",
       "      <td>130.250000</td>\n",
       "      <td>600.000000</td>\n",
       "      <td>400.000000</td>\n",
       "      <td>1417.000000</td>\n",
       "    </tr>\n",
       "    <tr>\n",
       "      <th>max</th>\n",
       "      <td>1250.000000</td>\n",
       "      <td>364.000000</td>\n",
       "      <td>650.000000</td>\n",
       "      <td>1450.000000</td>\n",
       "      <td>11966.000000</td>\n",
       "    </tr>\n",
       "  </tbody>\n",
       "</table>\n",
       "</div>"
      ],
      "text/plain": [
       "          Manikdoh       Wadaj      Dimbhe        Pjoge       Yedgaon\n",
       "count   592.000000  592.000000  592.000000   592.000000    592.000000\n",
       "mean    276.081081   69.302365  479.797297   257.743243   1444.858108\n",
       "std     456.299965   97.774672  192.400570   452.092767    881.017156\n",
       "min       0.000000    0.000000    0.000000     0.000000    138.000000\n",
       "25%       0.000000    0.000000  500.000000     0.000000   1303.000000\n",
       "50%       0.000000    0.000000  550.000000     0.000000   1400.000000\n",
       "75%     600.000000  130.250000  600.000000   400.000000   1417.000000\n",
       "max    1250.000000  364.000000  650.000000  1450.000000  11966.000000"
      ]
     },
     "execution_count": 166,
     "metadata": {},
     "output_type": "execute_result"
    }
   ],
   "source": [
    "data.describe()"
   ]
  },
  {
   "cell_type": "code",
   "execution_count": 167,
   "id": "628d9544",
   "metadata": {},
   "outputs": [
    {
     "data": {
      "text/plain": [
       "Manikdoh    0\n",
       "Wadaj       0\n",
       "Dimbhe      0\n",
       "Pjoge       0\n",
       "Yedgaon     0\n",
       "dtype: int64"
      ]
     },
     "execution_count": 167,
     "metadata": {},
     "output_type": "execute_result"
    }
   ],
   "source": [
    "data.isnull().sum()"
   ]
  },
  {
   "cell_type": "code",
   "execution_count": 168,
   "id": "87711f5b",
   "metadata": {},
   "outputs": [
    {
     "data": {
      "text/plain": [
       "Manikdoh    int64\n",
       "Wadaj       int64\n",
       "Dimbhe      int64\n",
       "Pjoge       int64\n",
       "Yedgaon     int64\n",
       "dtype: object"
      ]
     },
     "execution_count": 168,
     "metadata": {},
     "output_type": "execute_result"
    }
   ],
   "source": [
    "data.dtypes"
   ]
  },
  {
   "cell_type": "code",
   "execution_count": 169,
   "id": "c0ff3c01",
   "metadata": {},
   "outputs": [],
   "source": [
    "data = data.drop_duplicates()"
   ]
  },
  {
   "cell_type": "code",
   "execution_count": 170,
   "id": "e24b609a",
   "metadata": {},
   "outputs": [
    {
     "data": {
      "text/plain": [
       "(464, 5)"
      ]
     },
     "execution_count": 170,
     "metadata": {},
     "output_type": "execute_result"
    }
   ],
   "source": [
    "data.shape"
   ]
  },
  {
   "cell_type": "markdown",
   "id": "d3ae4e76",
   "metadata": {},
   "source": [
    "# Exploratory Data Analysis"
   ]
  },
  {
   "cell_type": "code",
   "execution_count": 171,
   "id": "6060269e",
   "metadata": {},
   "outputs": [],
   "source": [
    "import matplotlib.pyplot as plt"
   ]
  },
  {
   "cell_type": "code",
   "execution_count": 172,
   "id": "a0b9a710",
   "metadata": {},
   "outputs": [
    {
     "data": {
      "image/png": "[encoded data removed]",
      "text/plain": [
       "<Figure size 432x288 with 1 Axes>"
      ]
     },
     "metadata": {
      "needs_background": "light"
     },
     "output_type": "display_data"
    }
   ],
   "source": [
    "data.plot(x='Manikdoh', y='Yedgaon', style='o')\n",
    "plt.title('Manikdoh vs Yedgaon Plot')\n",
    "plt.xlabel('Manikdoh')\n",
    "plt.ylabel('Yedgaon')\n",
    "plt.show()"
   ]
  },
  {
   "cell_type": "code",
   "execution_count": 173,
   "id": "47e2b21f",
   "metadata": {},
   "outputs": [
    {
     "data": {
      "image/png": "[encoded data removed]",
      "text/plain": [
       "<Figure size 432x288 with 1 Axes>"
      ]
     },
     "metadata": {
      "needs_background": "light"
     },
     "output_type": "display_data"
    }
   ],
   "source": [
    "data.plot(x='Wadaj', y='Yedgaon', style='o')\n",
    "plt.title('Wadaj vs Yedgaon Plot')\n",
    "plt.xlabel('Wadaj')\n",
    "plt.ylabel('Yedgaon')\n",
    "plt.show()"
   ]
  },
  {
   "cell_type": "code",
   "execution_count": 174,
   "id": "190d8b33",
   "metadata": {},
   "outputs": [
    {
     "data": {
      "image/png": "[encoded data removed]",
      "text/plain": [
       "<Figure size 432x288 with 1 Axes>"
      ]
     },
     "metadata": {
      "needs_background": "light"
     },
     "output_type": "display_data"
    }
   ],
   "source": [
    "data.plot(x='Dimbhe', y='Yedgaon', style='o')\n",
    "plt.title('Dimbhe vs Yedgaon Plot')\n",
    "plt.xlabel('Dimbhe')\n",
    "plt.ylabel('Yedgaon')\n",
    "plt.show()"
   ]
  },
  {
   "cell_type": "code",
   "execution_count": 175,
   "id": "77f5af07",
   "metadata": {},
   "outputs": [
    {
     "data": {
      "image/png": "[encoded data removed]",
      "text/plain": [
       "<Figure size 432x288 with 1 Axes>"
      ]
     },
     "metadata": {
      "needs_background": "light"
     },
     "output_type": "display_data"
    }
   ],
   "source": [
    "data.plot(x='Pjoge', y='Yedgaon', style='o')\n",
    "plt.title('Pjoge vs Yedgaon Plot')\n",
    "plt.xlabel('Pjoge')\n",
    "plt.ylabel('Yedgaon')\n",
    "plt.show()"
   ]
  },
  {
   "cell_type": "code",
   "execution_count": 176,
   "id": "f8798e5a",
   "metadata": {},
   "outputs": [
    {
     "data": {
      "text/html": [
       "<div>\n",
       "<style scoped>\n",
       "    .dataframe tbody tr th:only-of-type {\n",
       "        vertical-align: middle;\n",
       "    }\n",
       "\n",
       "    .dataframe tbody tr th {\n",
       "        vertical-align: top;\n",
       "    }\n",
       "\n",
       "    .dataframe thead th {\n",
       "        text-align: right;\n",
       "    }\n",
       "</style>\n",
       "<table border=\"1\" class=\"dataframe\">\n",
       "  <thead>\n",
       "    <tr style=\"text-align: right;\">\n",
       "      <th></th>\n",
       "      <th>Manikdoh</th>\n",
       "      <th>Wadaj</th>\n",
       "      <th>Dimbhe</th>\n",
       "      <th>Pjoge</th>\n",
       "      <th>Yedgaon</th>\n",
       "    </tr>\n",
       "  </thead>\n",
       "  <tbody>\n",
       "    <tr>\n",
       "      <th>Manikdoh</th>\n",
       "      <td>1.000000</td>\n",
       "      <td>-0.124813</td>\n",
       "      <td>0.210782</td>\n",
       "      <td>-0.189980</td>\n",
       "      <td>-0.055177</td>\n",
       "    </tr>\n",
       "    <tr>\n",
       "      <th>Wadaj</th>\n",
       "      <td>-0.124813</td>\n",
       "      <td>1.000000</td>\n",
       "      <td>-0.293191</td>\n",
       "      <td>-0.357677</td>\n",
       "      <td>0.371903</td>\n",
       "    </tr>\n",
       "    <tr>\n",
       "      <th>Dimbhe</th>\n",
       "      <td>0.210782</td>\n",
       "      <td>-0.293191</td>\n",
       "      <td>1.000000</td>\n",
       "      <td>0.057376</td>\n",
       "      <td>-0.203798</td>\n",
       "    </tr>\n",
       "    <tr>\n",
       "      <th>Pjoge</th>\n",
       "      <td>-0.189980</td>\n",
       "      <td>-0.357677</td>\n",
       "      <td>0.057376</td>\n",
       "      <td>1.000000</td>\n",
       "      <td>-0.131617</td>\n",
       "    </tr>\n",
       "    <tr>\n",
       "      <th>Yedgaon</th>\n",
       "      <td>-0.055177</td>\n",
       "      <td>0.371903</td>\n",
       "      <td>-0.203798</td>\n",
       "      <td>-0.131617</td>\n",
       "      <td>1.000000</td>\n",
       "    </tr>\n",
       "  </tbody>\n",
       "</table>\n",
       "</div>"
      ],
      "text/plain": [
       "          Manikdoh     Wadaj    Dimbhe     Pjoge   Yedgaon\n",
       "Manikdoh  1.000000 -0.124813  0.210782 -0.189980 -0.055177\n",
       "Wadaj    -0.124813  1.000000 -0.293191 -0.357677  0.371903\n",
       "Dimbhe    0.210782 -0.293191  1.000000  0.057376 -0.203798\n",
       "Pjoge    -0.189980 -0.357677  0.057376  1.000000 -0.131617\n",
       "Yedgaon  -0.055177  0.371903 -0.203798 -0.131617  1.000000"
      ]
     },
     "execution_count": 176,
     "metadata": {},
     "output_type": "execute_result"
    }
   ],
   "source": [
    "data.corr()"
   ]
  },
  {
   "cell_type": "code",
   "execution_count": 177,
   "id": "dc6013a4",
   "metadata": {},
   "outputs": [
    {
     "data": {
      "text/plain": [
       "Index(['Manikdoh', 'Wadaj', 'Dimbhe', 'Pjoge', 'Yedgaon'], dtype='object')"
      ]
     },
     "execution_count": 177,
     "metadata": {},
     "output_type": "execute_result"
    }
   ],
   "source": [
    "data.columns"
   ]
  },
  {
   "cell_type": "markdown",
   "id": "7df2ba07",
   "metadata": {},
   "source": [
    "# Train Test Split"
   ]
  },
  {
   "cell_type": "code",
   "execution_count": 178,
   "id": "49e2a185",
   "metadata": {},
   "outputs": [],
   "source": [
    "X = data[['Wadaj', 'Dimbhe', 'Pjoge']].values #array of features\n",
    "y = data['Yedgaon'].values #array of targets"
   ]
  },
  {
   "cell_type": "code",
   "execution_count": 179,
   "id": "75af6e68",
   "metadata": {},
   "outputs": [],
   "source": [
    "from sklearn.model_selection import train_test_split\n",
    "X_train, X_test, y_train, y_test = train_test_split(X, y, test_size=0.2, random_state=10)"
   ]
  },
  {
   "cell_type": "code",
   "execution_count": 180,
   "id": "f86ae018",
   "metadata": {},
   "outputs": [],
   "source": [
    "from sklearn.preprocessing import StandardScaler ## standrard scalig \n",
    "scaler = StandardScaler() #initialise to a variable\n",
    "scaler.fit(X_train,y_train) # we are finding the values of mean and sd from the td\n",
    "X_train_scaled = scaler.transform(X_train) # fit (mean, sd) and then transform the training data\n",
    "X_test_scaled = scaler.transform(X_test) # transform the test data "
   ]
  },
  {
   "cell_type": "code",
   "execution_count": 181,
   "id": "61e05819",
   "metadata": {
    "scrolled": true
   },
   "outputs": [
    {
     "data": {
      "text/plain": [
       "((371, 3), (93, 3))"
      ]
     },
     "execution_count": 181,
     "metadata": {},
     "output_type": "execute_result"
    }
   ],
   "source": [
    "X_train.shape, X_test.shape"
   ]
  },
  {
   "cell_type": "code",
   "execution_count": 182,
   "id": "0db02e88",
   "metadata": {},
   "outputs": [
    {
     "data": {
      "text/plain": [
       "((371,), (93,))"
      ]
     },
     "execution_count": 182,
     "metadata": {},
     "output_type": "execute_result"
    }
   ],
   "source": [
    "y_train.shape, y_test.shape"
   ]
  },
  {
   "cell_type": "markdown",
   "id": "07942d18",
   "metadata": {},
   "source": [
    "# Model Development"
   ]
  },
  {
   "cell_type": "code",
   "execution_count": 183,
   "id": "d7997361",
   "metadata": {},
   "outputs": [],
   "source": [
    "from sklearn.linear_model import LinearRegression\n",
    "from sklearn.neighbors import KNeighborsRegressor\n",
    "from sklearn.tree import DecisionTreeRegressor\n",
    "from sklearn.ensemble import RandomForestRegressor\n",
    "from sklearn.svm import SVR"
   ]
  },
  {
   "cell_type": "markdown",
   "id": "6539e8f6",
   "metadata": {},
   "source": [
    "### 1. Linear Regression"
   ]
  },
  {
   "cell_type": "code",
   "execution_count": 184,
   "id": "bc44919b",
   "metadata": {},
   "outputs": [
    {
     "data": {
      "text/plain": [
       "LinearRegression()"
      ]
     },
     "execution_count": 184,
     "metadata": {},
     "output_type": "execute_result"
    }
   ],
   "source": [
    "from sklearn.linear_model import LinearRegression\n",
    "regressor = LinearRegression()\n",
    "regressor.fit(X_train_scaled, y_train)"
   ]
  },
  {
   "cell_type": "code",
   "execution_count": 185,
   "id": "e58c1a08",
   "metadata": {},
   "outputs": [
    {
     "data": {
      "text/html": [
       "<div>\n",
       "<style scoped>\n",
       "    .dataframe tbody tr th:only-of-type {\n",
       "        vertical-align: middle;\n",
       "    }\n",
       "\n",
       "    .dataframe tbody tr th {\n",
       "        vertical-align: top;\n",
       "    }\n",
       "\n",
       "    .dataframe thead th {\n",
       "        text-align: right;\n",
       "    }\n",
       "</style>\n",
       "<table border=\"1\" class=\"dataframe\">\n",
       "  <thead>\n",
       "    <tr style=\"text-align: right;\">\n",
       "      <th></th>\n",
       "      <th>Coefficient</th>\n",
       "    </tr>\n",
       "  </thead>\n",
       "  <tbody>\n",
       "    <tr>\n",
       "      <th>Wadaj</th>\n",
       "      <td>353.504746</td>\n",
       "    </tr>\n",
       "    <tr>\n",
       "      <th>Dimbhe</th>\n",
       "      <td>-51.810901</td>\n",
       "    </tr>\n",
       "    <tr>\n",
       "      <th>Pjoge</th>\n",
       "      <td>-4.136448</td>\n",
       "    </tr>\n",
       "  </tbody>\n",
       "</table>\n",
       "</div>"
      ],
      "text/plain": [
       "        Coefficient\n",
       "Wadaj    353.504746\n",
       "Dimbhe   -51.810901\n",
       "Pjoge     -4.136448"
      ]
     },
     "execution_count": 185,
     "metadata": {},
     "output_type": "execute_result"
    }
   ],
   "source": [
    "coeff_df = pd.DataFrame(regressor.coef_,['Wadaj', 'Dimbhe', 'Pjoge'], columns=['Coefficient'])\n",
    "y_pred = regressor.predict(X_test_scaled)\n",
    "coeff_df"
   ]
  },
  {
   "cell_type": "code",
   "execution_count": 186,
   "id": "0351e7eb",
   "metadata": {},
   "outputs": [
    {
     "data": {
      "text/plain": [
       "1449.7358490566037"
      ]
     },
     "execution_count": 186,
     "metadata": {},
     "output_type": "execute_result"
    }
   ],
   "source": [
    "regressor.intercept_"
   ]
  },
  {
   "cell_type": "code",
   "execution_count": 187,
   "id": "532e41ca",
   "metadata": {},
   "outputs": [
    {
     "data": {
      "text/html": [
       "<div>\n",
       "<style scoped>\n",
       "    .dataframe tbody tr th:only-of-type {\n",
       "        vertical-align: middle;\n",
       "    }\n",
       "\n",
       "    .dataframe tbody tr th {\n",
       "        vertical-align: top;\n",
       "    }\n",
       "\n",
       "    .dataframe thead th {\n",
       "        text-align: right;\n",
       "    }\n",
       "</style>\n",
       "<table border=\"1\" class=\"dataframe\">\n",
       "  <thead>\n",
       "    <tr style=\"text-align: right;\">\n",
       "      <th></th>\n",
       "      <th>Actual</th>\n",
       "      <th>Predicted</th>\n",
       "    </tr>\n",
       "  </thead>\n",
       "  <tbody>\n",
       "    <tr>\n",
       "      <th>0</th>\n",
       "      <td>741</td>\n",
       "      <td>1491.471260</td>\n",
       "    </tr>\n",
       "    <tr>\n",
       "      <th>1</th>\n",
       "      <td>1452</td>\n",
       "      <td>1130.076359</td>\n",
       "    </tr>\n",
       "    <tr>\n",
       "      <th>2</th>\n",
       "      <td>1300</td>\n",
       "      <td>1143.405035</td>\n",
       "    </tr>\n",
       "    <tr>\n",
       "      <th>3</th>\n",
       "      <td>1300</td>\n",
       "      <td>1122.678043</td>\n",
       "    </tr>\n",
       "    <tr>\n",
       "      <th>4</th>\n",
       "      <td>1382</td>\n",
       "      <td>1143.405035</td>\n",
       "    </tr>\n",
       "    <tr>\n",
       "      <th>...</th>\n",
       "      <td>...</td>\n",
       "      <td>...</td>\n",
       "    </tr>\n",
       "    <tr>\n",
       "      <th>88</th>\n",
       "      <td>1322</td>\n",
       "      <td>1132.785443</td>\n",
       "    </tr>\n",
       "    <tr>\n",
       "      <th>89</th>\n",
       "      <td>1410</td>\n",
       "      <td>1132.785443</td>\n",
       "    </tr>\n",
       "    <tr>\n",
       "      <th>90</th>\n",
       "      <td>1303</td>\n",
       "      <td>1127.112266</td>\n",
       "    </tr>\n",
       "    <tr>\n",
       "      <th>91</th>\n",
       "      <td>1357</td>\n",
       "      <td>1863.902120</td>\n",
       "    </tr>\n",
       "    <tr>\n",
       "      <th>92</th>\n",
       "      <td>1309</td>\n",
       "      <td>1282.046931</td>\n",
       "    </tr>\n",
       "  </tbody>\n",
       "</table>\n",
       "<p>93 rows × 2 columns</p>\n",
       "</div>"
      ],
      "text/plain": [
       "    Actual    Predicted\n",
       "0      741  1491.471260\n",
       "1     1452  1130.076359\n",
       "2     1300  1143.405035\n",
       "3     1300  1122.678043\n",
       "4     1382  1143.405035\n",
       "..     ...          ...\n",
       "88    1322  1132.785443\n",
       "89    1410  1132.785443\n",
       "90    1303  1127.112266\n",
       "91    1357  1863.902120\n",
       "92    1309  1282.046931\n",
       "\n",
       "[93 rows x 2 columns]"
      ]
     },
     "execution_count": 187,
     "metadata": {},
     "output_type": "execute_result"
    }
   ],
   "source": [
    "df = pd.DataFrame({'Actual': y_test, 'Predicted': y_pred})\n",
    "df"
   ]
  },
  {
   "cell_type": "code",
   "execution_count": 188,
   "id": "f0c78ccc",
   "metadata": {},
   "outputs": [
    {
     "data": {
      "text/html": [
       "<div>\n",
       "<style scoped>\n",
       "    .dataframe tbody tr th:only-of-type {\n",
       "        vertical-align: middle;\n",
       "    }\n",
       "\n",
       "    .dataframe tbody tr th {\n",
       "        vertical-align: top;\n",
       "    }\n",
       "\n",
       "    .dataframe thead th {\n",
       "        text-align: right;\n",
       "    }\n",
       "</style>\n",
       "<table border=\"1\" class=\"dataframe\">\n",
       "  <thead>\n",
       "    <tr style=\"text-align: right;\">\n",
       "      <th></th>\n",
       "      <th>Actual</th>\n",
       "      <th>Predicted</th>\n",
       "    </tr>\n",
       "  </thead>\n",
       "  <tbody>\n",
       "    <tr>\n",
       "      <th>Actual</th>\n",
       "      <td>1.000000</td>\n",
       "      <td>0.406655</td>\n",
       "    </tr>\n",
       "    <tr>\n",
       "      <th>Predicted</th>\n",
       "      <td>0.406655</td>\n",
       "      <td>1.000000</td>\n",
       "    </tr>\n",
       "  </tbody>\n",
       "</table>\n",
       "</div>"
      ],
      "text/plain": [
       "             Actual  Predicted\n",
       "Actual     1.000000   0.406655\n",
       "Predicted  0.406655   1.000000"
      ]
     },
     "execution_count": 188,
     "metadata": {},
     "output_type": "execute_result"
    }
   ],
   "source": [
    "df.corr()"
   ]
  },
  {
   "cell_type": "code",
   "execution_count": 189,
   "id": "8d140206",
   "metadata": {},
   "outputs": [
    {
     "name": "stdout",
     "output_type": "stream",
     "text": [
      "R2- SCORE: 0.1494210754047477\n"
     ]
    }
   ],
   "source": [
    "from sklearn import metrics\n",
    "print('R2- SCORE:', metrics.r2_score(y_test,y_pred))"
   ]
  },
  {
   "cell_type": "markdown",
   "id": "199307c0",
   "metadata": {},
   "source": [
    "# Feature Selection"
   ]
  },
  {
   "cell_type": "code",
   "execution_count": 190,
   "id": "2eb2d29c",
   "metadata": {},
   "outputs": [
    {
     "data": {
      "text/plain": [
       "[('Wadaj', True), ('Dimbhe', True), ('Pjoge', True)]"
      ]
     },
     "execution_count": 190,
     "metadata": {},
     "output_type": "execute_result"
    }
   ],
   "source": [
    "from sklearn.feature_selection import RFE\n",
    "estimator = LinearRegression()\n",
    "selector = RFE(estimator, n_features_to_select=3, step=1)\n",
    "selector = selector.fit(X_train_scaled, y_train)\n",
    "list(zip(['Wadaj', 'Dimbhe', 'Pjoge'],selector.support_))"
   ]
  },
  {
   "cell_type": "markdown",
   "id": "b516f11d",
   "metadata": {},
   "source": [
    "# Cross Validation"
   ]
  },
  {
   "cell_type": "code",
   "execution_count": 191,
   "id": "80dbf749",
   "metadata": {},
   "outputs": [],
   "source": [
    "from sklearn.model_selection import cross_validate\n",
    "regressor = LinearRegression(normalize = True) #untrained model"
   ]
  },
  {
   "cell_type": "code",
   "execution_count": 192,
   "id": "d4b54e2e",
   "metadata": {},
   "outputs": [
    {
     "data": {
      "text/plain": [
       "-1.4861902026635005"
      ]
     },
     "execution_count": 192,
     "metadata": {},
     "output_type": "execute_result"
    }
   ],
   "source": [
    "cv_results = cross_validate(regressor, X, y, cv=10, scoring = \"r2\")\n",
    "cv_results['test_score'].mean()"
   ]
  },
  {
   "cell_type": "markdown",
   "id": "33c82a02",
   "metadata": {},
   "source": [
    "### 2. Decision Tree Regressor"
   ]
  },
  {
   "cell_type": "code",
   "execution_count": 193,
   "id": "ce27d04f",
   "metadata": {},
   "outputs": [
    {
     "data": {
      "text/plain": [
       "array([ 1087.5       ,  1418.61538462,  1181.62162162,  1200.        ,\n",
       "        1181.62162162,  1419.27777778,  1300.        ,  1394.33333333,\n",
       "        1453.        ,  1418.61538462,  1181.62162162,  1176.        ,\n",
       "        1404.        ,  1407.        ,   705.        ,  1416.        ,\n",
       "        1378.        ,  1306.        ,  1455.33333333,  1380.        ,\n",
       "        1306.        ,  1176.        ,  1006.        ,  1452.        ,\n",
       "        1405.5       ,  1435.        ,  1181.62162162,  4975.        ,\n",
       "        1373.        ,  1181.62162162,  1300.        ,  1428.        ,\n",
       "        1181.62162162,   515.        ,  1309.        ,  1405.        ,\n",
       "         848.8       ,  1405.5       ,  1300.        ,  1001.        ,\n",
       "         848.8       ,   214.        ,  1181.62162162,  1153.4       ,\n",
       "        1372.        ,  1181.62162162,  1336.6       ,  1203.2       ,\n",
       "        1452.        ,  1405.5       ,  1306.        ,  1371.        ,\n",
       "        3465.        ,  1200.        ,   972.33333333,  1418.61538462,\n",
       "        6623.        ,  1406.        ,  1400.        ,  1181.62162162,\n",
       "        1181.62162162,  1181.62162162,  1373.66666667,  1394.33333333,\n",
       "        1306.        , 11966.        ,  1336.6       ,  3788.        ,\n",
       "        1304.        ,  2783.5       ,  1404.        ,  1368.        ,\n",
       "        1000.        ,  1896.        ,  1153.4       ,  1300.        ,\n",
       "        1407.        ,  1153.4       ,  1181.62162162,  1181.62162162,\n",
       "        1203.        ,   975.2       ,  1371.        ,  1414.        ,\n",
       "        1302.        ,  1438.        ,  1405.        ,  1435.        ,\n",
       "        1336.6       ,  1336.6       ,  1306.        ,  1402.66666667,\n",
       "         972.33333333])"
      ]
     },
     "execution_count": 193,
     "metadata": {},
     "output_type": "execute_result"
    }
   ],
   "source": [
    "from sklearn.tree import DecisionTreeRegressor\n",
    "\n",
    "# Instantiate dt\n",
    "dt = DecisionTreeRegressor()\n",
    "\n",
    "# Fit dt to the training set\n",
    "dt.fit(X_train, y_train)\n",
    "dt.predict(X_test)"
   ]
  },
  {
   "cell_type": "code",
   "execution_count": 194,
   "id": "4647efeb",
   "metadata": {},
   "outputs": [
    {
     "name": "stdout",
     "output_type": "stream",
     "text": [
      "Test set R2 of dt: -0.82\n"
     ]
    }
   ],
   "source": [
    "from sklearn.metrics import  r2_score\n",
    "\n",
    "# Compute y_pred\n",
    "y_pred = dt.predict(X_test)\n",
    "\n",
    "# Compute mse_dt\n",
    "rsquared = r2_score(y_test,y_pred)\n",
    "# Compute rmse_dt\n",
    "\n",
    "\n",
    "# Print rmse_dt\n",
    "print(\"Test set R2 of dt: {:.2f}\".format(rsquared))"
   ]
  },
  {
   "cell_type": "markdown",
   "id": "18c2af46",
   "metadata": {},
   "source": [
    "- Inference: The model built on Decision Tree Regressor Analysis gives an accuracy of 82%"
   ]
  },
  {
   "cell_type": "markdown",
   "id": "a74a437c",
   "metadata": {},
   "source": [
    "### 3. KNN Regression"
   ]
  },
  {
   "cell_type": "code",
   "execution_count": 195,
   "id": "b25766da",
   "metadata": {},
   "outputs": [
    {
     "name": "stdout",
     "output_type": "stream",
     "text": [
      "Training for 5th Neighbor:  0.20884403102197546\n",
      "Training for 6th Neighbor:  0.21984896559410227\n",
      "Training for 7th Neighbor:  0.2268567749021383\n",
      "Training for 8th Neighbor:  0.22355978592499492\n",
      "Training for 9th Neighbor:  0.2528555114969062\n",
      "Training for 10th Neighbor:  0.2592293758201898\n",
      "Training for 11th Neighbor:  0.24044169864901221\n",
      "Training for 12th Neighbor:  0.23585644764249414\n",
      "Training for 13th Neighbor:  0.2506572852170641\n",
      "Training for 14th Neighbor:  0.23488989670424487\n",
      "Training for 15th Neighbor:  0.2503431372092041\n",
      "Training for 16th Neighbor:  0.33925505162416447\n",
      "Training for 17th Neighbor:  0.33527917044818556\n",
      "Training for 18th Neighbor:  0.32847239403884276\n",
      "Training for 19th Neighbor:  0.3155947531874119\n",
      "Training for 20th Neighbor:  0.3013502956708821\n",
      "Training for 21th Neighbor:  0.2804077013530626\n",
      "Training for 22th Neighbor:  0.26786281926239863\n",
      "Training for 23th Neighbor:  0.28107082027950336\n",
      "Training for 24th Neighbor:  0.2753238723024214\n",
      "Training for 25th Neighbor:  0.2726158387691744\n",
      "Training for 26th Neighbor:  0.29779999490636344\n",
      "Training for 27th Neighbor:  0.30824697175141336\n",
      "Training for 28th Neighbor:  0.32513650671630945\n",
      "Training for 29th Neighbor:  0.30996063270453345\n",
      "Training for 30th Neighbor:  0.3145314822050119\n",
      "Training for 31th Neighbor:  0.3145987005439115\n",
      "Training for 32th Neighbor:  0.3150685988806947\n",
      "Training for 33th Neighbor:  0.3132913254281331\n",
      "Training for 34th Neighbor:  0.3115830086997877\n",
      "Training for 35th Neighbor:  0.31639798917989514\n",
      "Training for 36th Neighbor:  0.3159377712146617\n",
      "Training for 37th Neighbor:  0.30848962011772296\n",
      "Training for 38th Neighbor:  0.3069823298768055\n",
      "Training for 39th Neighbor:  0.30173927590870664\n",
      "Training for 40th Neighbor:  0.29799090084168267\n",
      "Training for 41th Neighbor:  0.28821714898307416\n",
      "Training for 42th Neighbor:  0.28382308052429617\n",
      "Training for 43th Neighbor:  0.2806156514067689\n",
      "Training for 44th Neighbor:  0.2756336316891389\n",
      "Training for 45th Neighbor:  0.27303938595763844\n",
      "Training for 46th Neighbor:  0.2682499172779377\n",
      "Training for 47th Neighbor:  0.2677476665389794\n",
      "Training for 48th Neighbor:  0.26065681044142264\n",
      "Training for 49th Neighbor:  0.2590595746172567\n",
      "Training for 50th Neighbor:  0.25382346059002836\n",
      "Training for 51th Neighbor:  0.25023005774451434\n",
      "Training for 52th Neighbor:  0.2491002893641001\n",
      "Training for 53th Neighbor:  0.245105569969585\n",
      "Training for 54th Neighbor:  0.24110490561259512\n",
      "Training for 55th Neighbor:  0.23867718844530894\n",
      "Training for 56th Neighbor:  0.22993752334847406\n",
      "Training for 57th Neighbor:  0.22407622160981933\n",
      "Training for 58th Neighbor:  0.21988300557610496\n",
      "Training for 59th Neighbor:  0.21799298331802308\n",
      "Training for 60th Neighbor:  0.21273042347242754\n",
      "Training for 61th Neighbor:  0.2116967073477528\n",
      "Training for 62th Neighbor:  0.20686193407604614\n",
      "Training for 63th Neighbor:  0.2040380833975246\n",
      "Training for 64th Neighbor:  0.2049939171189733\n",
      "Training for 65th Neighbor:  0.19695546415185694\n",
      "Training for 66th Neighbor:  0.19928822559632087\n",
      "Training for 67th Neighbor:  0.19464159468358522\n",
      "Training for 68th Neighbor:  0.19027464965835683\n",
      "Training for 69th Neighbor:  0.18892762237307115\n",
      "Training for 70th Neighbor:  0.18887347622041517\n",
      "Training for 71th Neighbor:  0.18354179265652537\n",
      "Training for 72th Neighbor:  0.18169361468939316\n",
      "Training for 73th Neighbor:  0.17622025425798493\n",
      "Training for 74th Neighbor:  0.1726657503184822\n",
      "Training for 75th Neighbor:  0.17120686986912592\n",
      "Training for 76th Neighbor:  0.17074580260074967\n",
      "Training for 77th Neighbor:  0.16945594607936132\n",
      "Training for 78th Neighbor:  0.16726700406720574\n",
      "Training for 79th Neighbor:  0.16560613290444526\n",
      "Training for 80th Neighbor:  0.16336067800297238\n",
      "Training for 81th Neighbor:  0.16169426465625092\n",
      "Training for 82th Neighbor:  0.1600536245795504\n",
      "Training for 83th Neighbor:  0.15729518689808752\n",
      "Training for 84th Neighbor:  0.15123472671574412\n",
      "Training for 85th Neighbor:  0.14948458857997837\n",
      "Training for 86th Neighbor:  0.14641319277655984\n",
      "Training for 87th Neighbor:  0.14425797823728803\n",
      "Training for 88th Neighbor:  0.1417179205066572\n",
      "Training for 89th Neighbor:  0.13959085343305178\n",
      "Training for 90th Neighbor:  0.13595548854888673\n",
      "Training for 91th Neighbor:  0.13431480657971528\n",
      "Training for 92th Neighbor:  0.13172519184704157\n",
      "Training for 93th Neighbor:  0.12986612820269694\n",
      "Training for 94th Neighbor:  0.128391728217901\n",
      "Training for 95th Neighbor:  0.12824117715030514\n",
      "Training for 96th Neighbor:  0.12667179844982857\n",
      "Training for 97th Neighbor:  0.1285360540940026\n",
      "Training for 98th Neighbor:  0.12708975958678692\n",
      "Training for 99th Neighbor:  0.12646603650891775\n",
      "Training for 100th Neighbor:  0.12593468161861743\n",
      "Training for 101th Neighbor:  0.12483223206884242\n",
      "Training for 102th Neighbor:  0.12435831128914598\n",
      "Training for 103th Neighbor:  0.12265407615003165\n",
      "Training for 104th Neighbor:  0.12133162310414214\n",
      "Training for 105th Neighbor:  0.11996231776882693\n",
      "Training for 106th Neighbor:  0.11876480172533888\n",
      "Training for 107th Neighbor:  0.1188018805644726\n",
      "Training for 108th Neighbor:  0.11600404951384402\n",
      "Training for 109th Neighbor:  0.11618448986123697\n",
      "Training for 110th Neighbor:  0.1145216874299454\n",
      "Training for 111th Neighbor:  0.11528212085420875\n",
      "Training for 112th Neighbor:  0.11382064026203709\n",
      "Training for 113th Neighbor:  0.11215307117582463\n",
      "Training for 114th Neighbor:  0.11000544111100785\n",
      "Training for 115th Neighbor:  0.10965940937336993\n",
      "Training for 116th Neighbor:  0.10867089582587075\n",
      "Training for 117th Neighbor:  0.10770709522776112\n",
      "Training for 118th Neighbor:  0.10687974600248396\n",
      "Training for 119th Neighbor:  0.10541875599376827\n",
      "Training for 120th Neighbor:  0.10429985676924736\n",
      "Training for 121th Neighbor:  0.10319447042979091\n",
      "Training for 122th Neighbor:  0.10179985461402175\n",
      "Training for 123th Neighbor:  0.10003252117846373\n",
      "Training for 124th Neighbor:  0.09827421855897323\n",
      "Training for 125th Neighbor:  0.09645223738753306\n",
      "Training for 126th Neighbor:  0.09467842990080555\n",
      "Training for 127th Neighbor:  0.09254697893570785\n",
      "Training for 128th Neighbor:  0.0910080924538409\n",
      "Training for 129th Neighbor:  0.08921409655980661\n",
      "Training for 130th Neighbor:  0.08769196748336372\n",
      "Training for 131th Neighbor:  0.08580389498145236\n",
      "Training for 132th Neighbor:  0.08403685516243531\n",
      "Training for 133th Neighbor:  0.08277047430251783\n",
      "Training for 134th Neighbor:  0.08195644607423025\n",
      "Training for 135th Neighbor:  0.08048947492354519\n",
      "Training for 136th Neighbor:  0.07975619367975473\n",
      "Training for 137th Neighbor:  0.07825779007499034\n",
      "Training for 138th Neighbor:  0.07765086110503139\n",
      "Training for 139th Neighbor:  0.07637959735867106\n",
      "Training for 140th Neighbor:  0.07516045226650825\n",
      "Training for 141th Neighbor:  0.07500673120088419\n",
      "Training for 142th Neighbor:  0.0741736906937629\n",
      "Training for 143th Neighbor:  0.07342963289182824\n",
      "Training for 144th Neighbor:  0.0725313505901154\n",
      "Training for 145th Neighbor:  0.07198076745083937\n",
      "Training for 146th Neighbor:  0.07152681862429267\n",
      "Training for 147th Neighbor:  0.07005867036974756\n",
      "Training for 148th Neighbor:  0.06965918439772545\n",
      "Training for 149th Neighbor:  0.0684533179849578\n"
     ]
    }
   ],
   "source": [
    "for i in range(5,150):\n",
    "    KN = KNeighborsRegressor(n_neighbors = i)\n",
    "    KN.fit(X_train, y_train)\n",
    "    print(\"Training for {}th Neighbor: \".format(i), KN.score(X_test,y_test))"
   ]
  },
  {
   "cell_type": "markdown",
   "id": "b5e6da1a",
   "metadata": {},
   "source": [
    "- Inference: The model built on KNN Regression Analysis gives an accuracy of 20.88%"
   ]
  },
  {
   "cell_type": "markdown",
   "id": "dbb7b6be",
   "metadata": {},
   "source": [
    "### 4. Support Vector Machine"
   ]
  },
  {
   "cell_type": "code",
   "execution_count": 196,
   "id": "d4faebb9",
   "metadata": {},
   "outputs": [
    {
     "name": "stdout",
     "output_type": "stream",
     "text": [
      "for c =  0.01\n",
      "Training Score:  -0.004299242530833913\n",
      "Testing Score:  -0.03769318115929021\n",
      "for c =  0.51\n",
      "Training Score:  -0.0031262145390085205\n",
      "Testing Score:  -0.036018012902639285\n",
      "for c =  1.01\n",
      "Training Score:  -0.003253794778353969\n",
      "Testing Score:  -0.037750431714060007\n",
      "for c =  1.51\n",
      "Training Score:  -0.0030067842976309045\n",
      "Testing Score:  -0.038452812014314386\n",
      "for c =  2.01\n",
      "Training Score:  -0.0025851680767987606\n",
      "Testing Score:  -0.038591027110863596\n",
      "for c =  2.51\n",
      "Training Score:  -0.0021666737510814826\n",
      "Testing Score:  -0.038726139029475526\n",
      "for c =  3.01\n",
      "Training Score:  -0.0017759100307885856\n",
      "Testing Score:  -0.03891724975342847\n",
      "for c =  3.51\n",
      "Training Score:  -0.0013553382072097886\n",
      "Testing Score:  -0.039024811669111426\n",
      "for c =  4.01\n",
      "Training Score:  -0.0009654224803627987\n",
      "Testing Score:  -0.039214870081165865\n",
      "for c =  4.51\n",
      "Training Score:  -0.0006139371334366039\n",
      "Testing Score:  -0.03943490524095106\n"
     ]
    }
   ],
   "source": [
    "for k in np.arange(0.01,5,0.5):\n",
    "    SV = SVR(C=k, gamma = 'auto')\n",
    "    SV.fit(X_train,y_train)\n",
    "    print(\"for c = \", k)\n",
    "    print(\"Training Score: \", SV.score(X_train, y_train))\n",
    "    print(\"Testing Score: \", SV.score(X_test, y_test))"
   ]
  },
  {
   "cell_type": "markdown",
   "id": "29d8a7b4",
   "metadata": {},
   "source": [
    "Inference: The model built on Support Vector Machine Analysis gives an accuracy of 3.769%"
   ]
  },
  {
   "cell_type": "markdown",
   "id": "9d26a16a",
   "metadata": {},
   "source": [
    "### 5. Random Forest"
   ]
  },
  {
   "cell_type": "code",
   "execution_count": 197,
   "id": "4eb44768",
   "metadata": {
    "scrolled": true
   },
   "outputs": [
    {
     "name": "stdout",
     "output_type": "stream",
     "text": [
      "for max depth =  3\n",
      "Training score:  0.5031979897684788\n",
      "Testing score:  0.25078090386097585\n",
      "for max depth =  4\n",
      "Training score:  0.7092178049719164\n",
      "Testing score:  0.08704447951513083\n",
      "for max depth =  5\n",
      "Training score:  0.6998401929207128\n",
      "Testing score:  0.1898035382493808\n",
      "for max depth =  6\n",
      "Training score:  0.7298424858425395\n",
      "Testing score:  0.23944235719933837\n",
      "for max depth =  7\n",
      "Training score:  0.7521642888328838\n",
      "Testing score:  0.15737237135316307\n",
      "for max depth =  8\n",
      "Training score:  0.7860852274389607\n",
      "Testing score:  0.24594097618873212\n",
      "for max depth =  9\n",
      "Training score:  0.7796382680583278\n",
      "Testing score:  0.16685871985881284\n",
      "for max depth =  10\n",
      "Training score:  0.7693060395390381\n",
      "Testing score:  0.2328684785879076\n",
      "for max depth =  11\n",
      "Training score:  0.7952178910160129\n",
      "Testing score:  0.20541401796771852\n",
      "for max depth =  12\n",
      "Training score:  0.7729192769960057\n",
      "Testing score:  0.16578558163727286\n",
      "for max depth =  13\n",
      "Training score:  0.7872740441347104\n",
      "Testing score:  0.1441952700850837\n",
      "for max depth =  14\n",
      "Training score:  0.8012776982349873\n",
      "Testing score:  0.14322780994887252\n"
     ]
    }
   ],
   "source": [
    "dict = {}\n",
    "for i in range(3,15):\n",
    "    rf = RandomForestRegressor(max_depth = i)\n",
    "    rf.fit(X_train, y_train)\n",
    "    dict[i] = {'tr': rf.score(X_train, y_train), 'te':rf.score(X_test, y_test)}\n",
    "    print(\"for max depth = \", i)\n",
    "    print(\"Training score: \", rf.score(X_train, y_train))\n",
    "    print(\"Testing score: \", rf.score(X_test, y_test))"
   ]
  },
  {
   "cell_type": "markdown",
   "id": "e0336486",
   "metadata": {},
   "source": [
    "- Inference: The model built on Random Forest Analysis gives an accuracy of 24.57%"
   ]
  },
  {
   "cell_type": "markdown",
   "id": "62a626db",
   "metadata": {},
   "source": [
    "# Conclusion"
   ]
  },
  {
   "cell_type": "markdown",
   "id": "4d3bcc5f",
   "metadata": {},
   "source": [
    "- Considering all the accuracy values given by all the five models, it is observed that Decision Tree Regression Model performed with the best accuracy of 82 %."
   ]
  }
 ],
 "metadata": {
  "kernelspec": {
   "display_name": "Python 3 (ipykernel)",
   "language": "python",
   "name": "python3"
  },
  "language_info": {
   "codemirror_mode": {
    "name": "ipython",
    "version": 3
   },
   "file_extension": ".py",
   "mimetype": "text/x-python",
   "name": "python",
   "nbconvert_exporter": "python",
   "pygments_lexer": "ipython3",
   "version": "3.9.7"
  }
 },
 "nbformat": 4,
 "nbformat_minor": 5
}
